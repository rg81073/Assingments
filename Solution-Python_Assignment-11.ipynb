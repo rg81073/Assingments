{
 "cells": [
  {
   "cell_type": "code",
   "execution_count": null,
   "id": "3bce47d0",
   "metadata": {},
   "outputs": [],
   "source": [
    "1.\tWrite a Python program to find words which are greater than given length k?\n",
    "2.\tWrite a Python program for removing i-th character from a string?\n",
    "3.\tWrite a Python program to split and join a string?\n",
    "4.\tWrite a Python to check if a given string is binary string or not?\n",
    "5.\tWrite a Python program to find uncommon words from two Strings?\n",
    "6.\tWrite a Python to find all duplicate characters in string?\n",
    "7.\tWrite a Python Program to check if a string contains any special character?\n"
   ]
  },
  {
   "cell_type": "markdown",
   "id": "5d2e50ce",
   "metadata": {},
   "source": [
    "# Solutions"
   ]
  },
  {
   "cell_type": "code",
   "execution_count": 1,
   "id": "441e1692",
   "metadata": {},
   "outputs": [
    {
     "name": "stdout",
     "output_type": "stream",
     "text": [
      "['sample', 'string', 'program']\n"
     ]
    }
   ],
   "source": [
    "# 1.\tWrite a Python program to find words which are greater than given length k?\n",
    "\n",
    "def find_words_greater_than_k(string, k):\n",
    "    words = string.split()\n",
    "    result = []\n",
    "    for word in words:\n",
    "        if len(word) > k:\n",
    "            result.append(word)\n",
    "    return result\n",
    "\n",
    "\n",
    "string = \"This is a sample string to test the program\"\n",
    "k = 4\n",
    "print(find_words_greater_than_k(string, k)) # Output: ['sample', 'string', 'program']\n"
   ]
  },
  {
   "cell_type": "code",
   "execution_count": 2,
   "id": "bbbb58ea",
   "metadata": {},
   "outputs": [
    {
     "name": "stdout",
     "output_type": "stream",
     "text": [
      "Enter a string: ravi kumar\n",
      "Enter the index of the character to remove: 4\n",
      "Modified string after removing the i-th character: ravikumar\n"
     ]
    }
   ],
   "source": [
    "# 2.\tWrite a Python program for removing i-th character from a string?\n",
    "\n",
    "string = input(\"Enter a string: \")\n",
    "i = int(input(\"Enter the index of the character to remove: \"))\n",
    "\n",
    "# Rremoving the i-th character\n",
    "\n",
    "string = string[:i] + string[i+1:]\n",
    "\n",
    "print(\"Modified string after removing the i-th character:\", string)\n"
   ]
  },
  {
   "cell_type": "code",
   "execution_count": 4,
   "id": "dc600179",
   "metadata": {},
   "outputs": [
    {
     "name": "stdout",
     "output_type": "stream",
     "text": [
      "Words: ['Hello', 'World!', 'How', 'are', 'you?']\n",
      "New string: Hello World! How are you?\n"
     ]
    }
   ],
   "source": [
    "# 3.\tWrite a Python program to split and join a string?\n",
    "\n",
    "# Program to split and join a string\n",
    "\n",
    "# Input string\n",
    "\n",
    "string = \"Hello World! How are you?\"\n",
    "\n",
    "# Split the string into a list of words\n",
    "\n",
    "words = string.split()\n",
    "\n",
    "# Print the words\n",
    "\n",
    "print(\"Words:\", words)\n",
    "\n",
    "# Join the words back into a string\n",
    "\n",
    "new_string = \" \".join(words)\n",
    "\n",
    "# Print new string\n",
    "\n",
    "print(\"New string:\", new_string)\n"
   ]
  },
  {
   "cell_type": "code",
   "execution_count": 6,
   "id": "47dfff62",
   "metadata": {},
   "outputs": [
    {
     "name": "stdout",
     "output_type": "stream",
     "text": [
      "True\n",
      "False\n"
     ]
    }
   ],
   "source": [
    "# 4.\tWrite a Python to check if a given string is binary string or not?\n",
    "\n",
    "def is_binary_string(s):\n",
    "    for c in s:\n",
    "        if c != '0' and c != '1':\n",
    "            return False\n",
    "    return True\n",
    "\n",
    "# Example\n",
    "\n",
    "s1 = '10101101010000101010'\n",
    "s2 = '1010111200'\n",
    "print(is_binary_string(s1)) # Output = True\n",
    "print(is_binary_string(s2)) # Outpu=False\n"
   ]
  },
  {
   "cell_type": "code",
   "execution_count": 7,
   "id": "6099ab1f",
   "metadata": {},
   "outputs": [
    {
     "name": "stdout",
     "output_type": "stream",
     "text": [
      "['world', 'you', 'up', \"what's\", 'python', 'how', 'are']\n"
     ]
    }
   ],
   "source": [
    "# 5.\tWrite a Python program to find uncommon words from two Strings?\n",
    "\n",
    "def uncommon_words(str1, str2):\n",
    "    # split strings into words\n",
    "    \n",
    "    words1 = str1.split()\n",
    "    words2 = str2.split()\n",
    "\n",
    "    # find unique words in each string\n",
    "    \n",
    "    unique_words1 = set(words1) - set(words2)\n",
    "    unique_words2 = set(words2) - set(words1)\n",
    "\n",
    "    # return list of uncommon words\n",
    "    \n",
    "    return list(unique_words1.union(unique_words2))\n",
    "\n",
    "# example \n",
    "\n",
    "str1 = \"hello world how are you\"\n",
    "str2 = \"hello python what's up\"\n",
    "print(uncommon_words(str1, str2)) # output ['up', 'world', 'how', \"what's\", 'are', 'you', 'python']\n"
   ]
  },
  {
   "cell_type": "code",
   "execution_count": 8,
   "id": "427f186e",
   "metadata": {},
   "outputs": [
    {
     "name": "stdout",
     "output_type": "stream",
     "text": [
      "Duplicate characters: ['l', 'o']\n"
     ]
    }
   ],
   "source": [
    "# 6.\tWrite a Python to find all duplicate characters in string?\n",
    "\n",
    "string = \"hello world\"\n",
    "duplicates = []\n",
    "\n",
    "for char in string:\n",
    "    if string.count(char) > 1 and char not in duplicates:\n",
    "        duplicates.append(char)\n",
    "\n",
    "print(\"Duplicate characters:\", duplicates)\n"
   ]
  },
  {
   "cell_type": "code",
   "execution_count": 13,
   "id": "f952d2eb",
   "metadata": {},
   "outputs": [
    {
     "name": "stdout",
     "output_type": "stream",
     "text": [
      "True\n",
      "True\n"
     ]
    }
   ],
   "source": [
    "# 7.\tWrite a Python Program to check if a string contains any special character?\n",
    "\n",
    "\n",
    "\n",
    "\n",
    "# We use the re module to define a regular expression pattern that matches any character that is not a word character (i.e\n",
    "#a letter, digit, or underscore) or whitespace. We then use the re.search() function to search for the pattern in the string. \n",
    "#If a match is found, we return True, else we return False.\n",
    "\n",
    "import re\n",
    "\n",
    "def contains_special_character(s):\n",
    "    # Define a regular expression pattern to match special characters\n",
    "    \n",
    "    pattern = r'[^\\w\\s]'\n",
    "    # Use the re.search() function to search for the pattern in the string\n",
    "    \n",
    "    match = re.search(pattern, s)\n",
    "    \n",
    "    # If a match is found, return True, else return False\n",
    "    if match:\n",
    "        return True\n",
    "    else:\n",
    "        return False\n",
    "\n",
    "# Examplr\n",
    "s1 = 'Hello, World!'\n",
    "s2 = 'This string contains a # special character'\n",
    "print(contains_special_character(s1))  # False\n",
    "print(contains_special_character(s2))  # True\n"
   ]
  },
  {
   "cell_type": "markdown",
   "id": "5982b600",
   "metadata": {},
   "source": [
    "# End"
   ]
  },
  {
   "cell_type": "code",
   "execution_count": null,
   "id": "ebe7fe02",
   "metadata": {},
   "outputs": [],
   "source": []
  },
  {
   "cell_type": "code",
   "execution_count": null,
   "id": "f6627116",
   "metadata": {},
   "outputs": [],
   "source": []
  },
  {
   "cell_type": "code",
   "execution_count": null,
   "id": "d789ee0b",
   "metadata": {},
   "outputs": [],
   "source": []
  }
 ],
 "metadata": {
  "kernelspec": {
   "display_name": "Python 3 (ipykernel)",
   "language": "python",
   "name": "python3"
  },
  "language_info": {
   "codemirror_mode": {
    "name": "ipython",
    "version": 3
   },
   "file_extension": ".py",
   "mimetype": "text/x-python",
   "name": "python",
   "nbconvert_exporter": "python",
   "pygments_lexer": "ipython3",
   "version": "3.9.7"
  }
 },
 "nbformat": 4,
 "nbformat_minor": 5
}
