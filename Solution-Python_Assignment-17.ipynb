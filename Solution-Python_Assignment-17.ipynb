{
 "cells": [
  {
   "cell_type": "code",
   "execution_count": null,
   "id": "1f2c762f",
   "metadata": {},
   "outputs": [],
   "source": [
    "Question1. Create a function that takes three arguments a, b, c and returns the sum of the numbers that are evenly divided by c from the range a, b inclusive.\n",
    "Examples\n",
    "sum_divisible_by_c(1, 10, 20) ➞ 0\n",
    "# No number between 1 and 10 can be evenly divided by 20.\n",
    "\n",
    "sum_divisible_by_c(1, 10, 2) ➞ 30\n",
    "# 2 + 4 + 6 + 8 + 10 = 30\n",
    "\n",
    "sum_divisible_by_c(1, 10, 3) ➞ 18\n",
    "# 3 + 6 + 9 = 18\n",
    "\n",
    "\n",
    "Question2. Create a function that returns True if a given inequality expression is correct and False otherwise.\n",
    "Examples\n",
    "is_inequality_corrects(\"3 < 7 < 11\") ➞ True\n",
    "\n",
    "is_inequality_correct(\"13 > 44 > 33 > 1\") ➞ False\n",
    "\n",
    "is_inequality_correct(\"1 < 2 < 6 < 9 > 3\") ➞ True\n",
    "\n",
    "Question3. Create a function that replaces all the vowels in a string with a specified character.\n",
    "Examples\n",
    "replace_vowels_with_char(\"the aardvark\", \"#\") ➞ \"th# ##rdv#rk\"\n",
    "\n",
    "replace_vowels_with_char(\"minnie mouse\", \"?\") ➞ \"m?nn?? m??s?\"\n",
    "\n",
    "replace_vowels_with_char(\"shakespeare\", \"*\") ➞ \"sh*k*sp**r*\"\n",
    "\n",
    "Question4. Write a function that calculates the factorial of a number recursively.\n",
    "Examples\n",
    "factorial(5) ➞ 120\n",
    "\n",
    "factorial(3) ➞ 6\n",
    "\n",
    "factorial(1) ➞ 1\n",
    "\n",
    "factorial(0) ➞ 1\n",
    "\n",
    "Question 5\n",
    "Hamming distance is the number of characters that differ between two strings.\n",
    "To illustrate:\n",
    "String1: \"abcbba\"\n",
    "String2: \"abcbda\"\n",
    "\n",
    "Hamming Distance: 1 - \"b\" vs. \"d\" is the only difference.\n",
    "Create a function that computes the hamming distance between two strings.\n",
    "Examples\n",
    "hamming_distance(\"abcde\", \"bcdef\") ➞ 5\n",
    "\n",
    "hamming_distance(\"abcde\", \"abcde\") ➞ 0\n",
    "\n",
    "hamming_distance(\"strong\", \"strung\") ➞ 1\n",
    "\n",
    "\n"
   ]
  },
  {
   "cell_type": "markdown",
   "id": "d3594cb3",
   "metadata": {},
   "source": [
    "# Solutions"
   ]
  },
  {
   "cell_type": "code",
   "execution_count": 2,
   "id": "619d3b86",
   "metadata": {},
   "outputs": [
    {
     "data": {
      "text/plain": [
       "0"
      ]
     },
     "execution_count": 2,
     "metadata": {},
     "output_type": "execute_result"
    }
   ],
   "source": [
    "# Question1. Create a function that takes three arguments a, b, c and returns the sum of the numbers that are evenly divided by c from the range a, b inclusive.\n",
    "# Examples\n",
    "# sum_divisible_by_c(1, 10, 20) ➞ 0\n",
    "# # No number between 1 and 10 can be evenly divided by 20.\n",
    "\n",
    "# sum_divisible_by_c(1, 10, 2) ➞ 30\n",
    "# # 2 + 4 + 6 + 8 + 10 = 30\n",
    "\n",
    "# sum_divisible_by_c(1, 10, 3) ➞ 18\n",
    "# # 3 + 6 + 9 = 18\n",
    "\n",
    "\n",
    "def sum_divisible_by_c(a, b, c):\n",
    "    sum = 0\n",
    "    for num in range(a, b+1):\n",
    "        if num % c == 0:\n",
    "            sum += num\n",
    "    return sum\n",
    "\n",
    "sum_divisible_by_c(1, 10, 20)\n",
    "\n"
   ]
  },
  {
   "cell_type": "code",
   "execution_count": 3,
   "id": "a0599bef",
   "metadata": {},
   "outputs": [
    {
     "data": {
      "text/plain": [
       "30"
      ]
     },
     "execution_count": 3,
     "metadata": {},
     "output_type": "execute_result"
    }
   ],
   "source": [
    "def sum_divisible_by_c(a, b, c):\n",
    "    sum = 0\n",
    "    for num in range(a, b+1):\n",
    "        if num % c == 0:\n",
    "            sum += num\n",
    "    return sum\n",
    "\n",
    "sum_divisible_by_c(1, 10, 2)"
   ]
  },
  {
   "cell_type": "code",
   "execution_count": 4,
   "id": "f7fe42fe",
   "metadata": {},
   "outputs": [
    {
     "data": {
      "text/plain": [
       "18"
      ]
     },
     "execution_count": 4,
     "metadata": {},
     "output_type": "execute_result"
    }
   ],
   "source": [
    "def sum_divisible_by_c(a, b, c):\n",
    "    sum = 0\n",
    "    for num in range(a, b+1):\n",
    "        if num % c == 0:\n",
    "            sum += num\n",
    "    return sum\n",
    "\n",
    "sum_divisible_by_c(1, 10, 3)"
   ]
  },
  {
   "cell_type": "code",
   "execution_count": 6,
   "id": "7397fff5",
   "metadata": {},
   "outputs": [
    {
     "data": {
      "text/plain": [
       "True"
      ]
     },
     "execution_count": 6,
     "metadata": {},
     "output_type": "execute_result"
    }
   ],
   "source": [
    "# Question2. Create a function that returns True if a given inequality expression is correct and False otherwise.\n",
    "# Examples\n",
    "# is_inequality_correct(\"3 < 7 < 11\") ➞ True\n",
    "\n",
    "# is_inequality_correct(\"13 > 44 > 33 > 1\") ➞ False\n",
    "\n",
    "# is_inequality_correct(\"1 < 2 < 6 < 9 > 3\") ➞ True\n",
    "\n",
    "\n",
    "\n",
    "def is_inequality_correct(expr):  \n",
    "    parts = expr.split()\n",
    "    a = int(parts[0])\n",
    "    op = parts[1]\n",
    "    b = int(parts[2])\n",
    "    \n",
    "    if op == \">\":\n",
    "        return a > b\n",
    "    elif op == \">=\":\n",
    "        return a >= b\n",
    "    elif op == \"<\":\n",
    "        return a < b\n",
    "    elif op == \"<=\":\n",
    "        return a <= b\n",
    "    else:\n",
    "        raise ValueError(\"Invalid operator: {}\".format(op))\n",
    "\n",
    "is_inequality_correct(\"3 < 7 < 11\")"
   ]
  },
  {
   "cell_type": "code",
   "execution_count": 7,
   "id": "d0d34efe",
   "metadata": {},
   "outputs": [
    {
     "data": {
      "text/plain": [
       "False"
      ]
     },
     "execution_count": 7,
     "metadata": {},
     "output_type": "execute_result"
    }
   ],
   "source": [
    "def is_inequality_correct(expr):\n",
    "    parts = expr.split()\n",
    "    a = int(parts[0])\n",
    "    op = parts[1]\n",
    "    b = int(parts[2])\n",
    "    \n",
    "    if op == \">\":\n",
    "        return a > b\n",
    "    elif op == \">=\":\n",
    "        return a >= b\n",
    "    elif op == \"<\":\n",
    "        return a < b\n",
    "    elif op == \"<=\":\n",
    "        return a <= b\n",
    "    else:\n",
    "        raise ValueError(\"Invalid operator: {}\".format(op))\n",
    "\n",
    "is_inequality_correct(\"13 > 44 > 33 > 1\")"
   ]
  },
  {
   "cell_type": "code",
   "execution_count": 8,
   "id": "155da52c",
   "metadata": {},
   "outputs": [
    {
     "data": {
      "text/plain": [
       "True"
      ]
     },
     "execution_count": 8,
     "metadata": {},
     "output_type": "execute_result"
    }
   ],
   "source": [
    "def is_inequality_correct(expr):\n",
    "    parts = expr.split()\n",
    "    a = int(parts[0])\n",
    "    op = parts[1]\n",
    "    b = int(parts[2])\n",
    "    \n",
    "    if op == \">\":\n",
    "        return a > b\n",
    "    elif op == \">=\":\n",
    "        return a >= b\n",
    "    elif op == \"<\":\n",
    "        return a < b\n",
    "    elif op == \"<=\":\n",
    "        return a <= b\n",
    "    else:\n",
    "        raise ValueError(\"Invalid operator: {}\".format(op))\n",
    "\n",
    "is_inequality_correct(\"1 < 2 < 6 < 9 > 3\")"
   ]
  },
  {
   "cell_type": "code",
   "execution_count": 9,
   "id": "9f98e25b",
   "metadata": {},
   "outputs": [
    {
     "data": {
      "text/plain": [
       "'th# ##rdv#rk'"
      ]
     },
     "execution_count": 9,
     "metadata": {},
     "output_type": "execute_result"
    }
   ],
   "source": [
    "# Question3. Create a function that replaces all the vowels in a string with a specified character.\n",
    "# Examples\n",
    "# replace_vowels_with_char(\"the aardvark\", \"#\") ➞ \"th# ##rdv#rk\"\n",
    "\n",
    "# replace_vowels_with_char(\"minnie mouse\", \"?\") ➞ \"m?nn?? m??s?\"\n",
    "\n",
    "# replace_vowels_with_char(\"shakespeare\", \"*\") ➞ \"sh*k*sp**r*\"\n",
    "\n",
    "\n",
    "\n",
    "def replace_vowels_with_char(string, char):\n",
    "    vowels = \"aeiouAEIOU\"\n",
    "    new_string = \"\"\n",
    "    for letter in string:\n",
    "        if letter in vowels:\n",
    "            new_string += char\n",
    "        else:\n",
    "            new_string += letter\n",
    "    return new_string\n",
    "\n",
    "replace_vowels_with_char(\"the aardvark\", \"#\")"
   ]
  },
  {
   "cell_type": "code",
   "execution_count": 10,
   "id": "e05ebbee",
   "metadata": {},
   "outputs": [
    {
     "data": {
      "text/plain": [
       "'m?nn?? m??s?'"
      ]
     },
     "execution_count": 10,
     "metadata": {},
     "output_type": "execute_result"
    }
   ],
   "source": [
    "def replace_vowels_with_char(string, char):\n",
    "    vowels = \"aeiouAEIOU\"\n",
    "    new_string = \"\"\n",
    "    for letter in string:\n",
    "        if letter in vowels:\n",
    "            new_string += char\n",
    "        else:\n",
    "            new_string += letter\n",
    "    return new_string\n",
    "\n",
    "replace_vowels_with_char(\"minnie mouse\", \"?\")"
   ]
  },
  {
   "cell_type": "code",
   "execution_count": 11,
   "id": "3d5a018b",
   "metadata": {},
   "outputs": [
    {
     "data": {
      "text/plain": [
       "'sh*k*sp**r*'"
      ]
     },
     "execution_count": 11,
     "metadata": {},
     "output_type": "execute_result"
    }
   ],
   "source": [
    "def replace_vowels_with_char(string, char):\n",
    "    vowels = \"aeiouAEIOU\"\n",
    "    new_string = \"\"\n",
    "    for letter in string:\n",
    "        if letter in vowels:\n",
    "            new_string += char\n",
    "        else:\n",
    "            new_string += letter\n",
    "    return new_string\n",
    "\n",
    "replace_vowels_with_char(\"shakespeare\", \"*\")"
   ]
  },
  {
   "cell_type": "code",
   "execution_count": 12,
   "id": "2569ff83",
   "metadata": {},
   "outputs": [
    {
     "data": {
      "text/plain": [
       "120"
      ]
     },
     "execution_count": 12,
     "metadata": {},
     "output_type": "execute_result"
    }
   ],
   "source": [
    "# Question4. Write a function that calculates the factorial of a number recursively.\n",
    "# Examples\n",
    "# factorial(5) ➞ 120\n",
    "\n",
    "# factorial(3) ➞ 6\n",
    "\n",
    "# factorial(1) ➞ 1\n",
    "\n",
    "# factorial(0) ➞ 1\n",
    "\n",
    "\n",
    "def factorial(n):\n",
    "    if n == 0:\n",
    "        return 1\n",
    "    else:\n",
    "        return n * factorial(n-1)\n",
    "\n",
    "factorial(5)"
   ]
  },
  {
   "cell_type": "code",
   "execution_count": 13,
   "id": "6f41fe71",
   "metadata": {},
   "outputs": [
    {
     "data": {
      "text/plain": [
       "720"
      ]
     },
     "execution_count": 13,
     "metadata": {},
     "output_type": "execute_result"
    }
   ],
   "source": [
    "def factorial(n):\n",
    "    if n == 0:\n",
    "        return 1\n",
    "    else:\n",
    "        return n * factorial(n-1)\n",
    "\n",
    "factorial(6)"
   ]
  },
  {
   "cell_type": "code",
   "execution_count": 14,
   "id": "b725d284",
   "metadata": {},
   "outputs": [
    {
     "data": {
      "text/plain": [
       "1"
      ]
     },
     "execution_count": 14,
     "metadata": {},
     "output_type": "execute_result"
    }
   ],
   "source": [
    "def factorial(n):\n",
    "    if n == 0:\n",
    "        return 1\n",
    "    else:\n",
    "        return n * factorial(n-1)\n",
    "\n",
    "factorial(1)"
   ]
  },
  {
   "cell_type": "code",
   "execution_count": 15,
   "id": "26a62dc1",
   "metadata": {},
   "outputs": [
    {
     "data": {
      "text/plain": [
       "5"
      ]
     },
     "execution_count": 15,
     "metadata": {},
     "output_type": "execute_result"
    }
   ],
   "source": [
    "# Question 5\n",
    "# Hamming distance is the number of characters that differ between two strings.\n",
    "# To illustrate:\n",
    "# String1: \"abcbba\"\n",
    "# String2: \"abcbda\"\n",
    "\n",
    "# Hamming Distance: 1 - \"b\" vs. \"d\" is the only difference.\n",
    "# Create a function that computes the hamming distance between two strings.\n",
    "# Examples\n",
    "# hamming_distance(\"abcde\", \"bcdef\") ➞ 5\n",
    "\n",
    "# hamming_distance(\"abcde\", \"abcde\") ➞ 0\n",
    "\n",
    "# hamming_distance(\"strong\", \"strung\") ➞ 1\n",
    "\n",
    "\n",
    "\n",
    "def hamming_distance(s1, s2):\n",
    "    \"\"\"Computes the Hamming distance between two strings of equal length.\n",
    "    Args\n",
    "        s1 (str): The first string\n",
    "        s2 (str): The second string\n",
    "    Returns\n",
    "        int: The Hamming distance between the two strings.\n",
    "    Raises\n",
    "        ValueError: If the input strings have different lengths.\n",
    "    \"\"\"\n",
    "    if len(s1) != len(s2):\n",
    "        raise ValueError(\"Input strings must have the same length\")\n",
    "    distance = 0\n",
    "    for c1, c2 in zip(s1, s2):\n",
    "        if c1 != c2:\n",
    "            distance += 1\n",
    "    return distance\n",
    "\n",
    "hamming_distance(\"abcde\", \"bcdef\")"
   ]
  },
  {
   "cell_type": "code",
   "execution_count": 26,
   "id": "85cb9820",
   "metadata": {},
   "outputs": [
    {
     "data": {
      "text/plain": [
       "0"
      ]
     },
     "execution_count": 26,
     "metadata": {},
     "output_type": "execute_result"
    }
   ],
   "source": [
    "def hamming_distance(s1, s2):\n",
    "    \n",
    "    if len(s1) != len(s2):\n",
    "        raise ValueError(\"Input strings must have the same length\")\n",
    "    distance = 0\n",
    "    for c1, c2 in zip(s1, s2):\n",
    "        if c1 != c2:\n",
    "            distance += 1\n",
    "    return distance\n",
    "\n",
    "hamming_distance(\"abcde\", \"abcde\")"
   ]
  },
  {
   "cell_type": "code",
   "execution_count": 27,
   "id": "e3347965",
   "metadata": {},
   "outputs": [
    {
     "data": {
      "text/plain": [
       "1"
      ]
     },
     "execution_count": 27,
     "metadata": {},
     "output_type": "execute_result"
    }
   ],
   "source": [
    "def hamming_distance(s1, s2):\n",
    "    \n",
    "    if len(s1) != len(s2):\n",
    "        raise ValueError(\"Input strings must have the same length\")\n",
    "    distance = 0\n",
    "    for c1, c2 in zip(s1, s2):\n",
    "        if c1 != c2:\n",
    "            distance += 1\n",
    "    return distance\n",
    "\n",
    "hamming_distance(\"strong\", \"strung\")"
   ]
  },
  {
   "cell_type": "markdown",
   "id": "1734dd6e",
   "metadata": {},
   "source": [
    "# End"
   ]
  },
  {
   "cell_type": "code",
   "execution_count": null,
   "id": "012348e0",
   "metadata": {},
   "outputs": [],
   "source": []
  },
  {
   "cell_type": "code",
   "execution_count": null,
   "id": "08e61e82",
   "metadata": {},
   "outputs": [],
   "source": []
  },
  {
   "cell_type": "code",
   "execution_count": null,
   "id": "6e7d27c1",
   "metadata": {},
   "outputs": [],
   "source": []
  },
  {
   "cell_type": "code",
   "execution_count": null,
   "id": "0b8f367c",
   "metadata": {},
   "outputs": [],
   "source": []
  },
  {
   "cell_type": "code",
   "execution_count": null,
   "id": "2f1c8313",
   "metadata": {},
   "outputs": [],
   "source": []
  },
  {
   "cell_type": "code",
   "execution_count": null,
   "id": "05555645",
   "metadata": {},
   "outputs": [],
   "source": []
  },
  {
   "cell_type": "code",
   "execution_count": null,
   "id": "5628a6f9",
   "metadata": {},
   "outputs": [],
   "source": []
  },
  {
   "cell_type": "code",
   "execution_count": null,
   "id": "af65d946",
   "metadata": {},
   "outputs": [],
   "source": []
  },
  {
   "cell_type": "code",
   "execution_count": null,
   "id": "abdecb67",
   "metadata": {},
   "outputs": [],
   "source": []
  },
  {
   "cell_type": "code",
   "execution_count": null,
   "id": "8eb055b2",
   "metadata": {},
   "outputs": [],
   "source": []
  },
  {
   "cell_type": "code",
   "execution_count": null,
   "id": "285d43c4",
   "metadata": {},
   "outputs": [],
   "source": []
  }
 ],
 "metadata": {
  "kernelspec": {
   "display_name": "Python 3 (ipykernel)",
   "language": "python",
   "name": "python3"
  },
  "language_info": {
   "codemirror_mode": {
    "name": "ipython",
    "version": 3
   },
   "file_extension": ".py",
   "mimetype": "text/x-python",
   "name": "python",
   "nbconvert_exporter": "python",
   "pygments_lexer": "ipython3",
   "version": "3.9.7"
  }
 },
 "nbformat": 4,
 "nbformat_minor": 5
}
