{
 "cells": [
  {
   "cell_type": "code",
   "execution_count": 1,
   "id": "f51518f6",
   "metadata": {},
   "outputs": [
    {
     "name": "stdout",
     "output_type": "stream",
     "text": [
      "!dlroW ,olleH\n"
     ]
    }
   ],
   "source": [
    "# 1 Reverse a string without using any built-in string reversal functions:\n",
    "\n",
    "def reverse_string(s):\n",
    "    return s[::-1]\n",
    "\n",
    "# Example usage\n",
    "s = \"Hello, World!\"\n",
    "reversed_string = reverse_string(s)\n",
    "print(reversed_string)\n",
    "\n"
   ]
  },
  {
   "cell_type": "code",
   "execution_count": 2,
   "id": "c183ffaf",
   "metadata": {},
   "outputs": [
    {
     "name": "stdout",
     "output_type": "stream",
     "text": [
      "The string is a palindrome.\n"
     ]
    }
   ],
   "source": [
    "# 2 Check if a given string is a palindrome:\n",
    "\n",
    "def is_palindrome(s):\n",
    "    return s == s[::-1]\n",
    "\n",
    "# Example usage\n",
    "s = \"madam\"\n",
    "if is_palindrome(s):\n",
    "    print(\"The string is a palindrome.\")\n",
    "else:\n",
    "    print(\"The string is not a palindrome.\")\n"
   ]
  },
  {
   "cell_type": "code",
   "execution_count": 3,
   "id": "ad1199fc",
   "metadata": {},
   "outputs": [
    {
     "name": "stdout",
     "output_type": "stream",
     "text": [
      "The largest element is: 9\n"
     ]
    }
   ],
   "source": [
    "# 3 Find the largest element in a given list:\n",
    "\n",
    "def find_largest_element(lst):\n",
    "    return max(lst)\n",
    "\n",
    "# Example usage\n",
    "lst = [5, 2, 9, 3, 7]\n",
    "largest_element = find_largest_element(lst)\n",
    "print(\"The largest element is:\", largest_element)\n"
   ]
  },
  {
   "cell_type": "code",
   "execution_count": 4,
   "id": "736c9835",
   "metadata": {},
   "outputs": [
    {
     "name": "stdout",
     "output_type": "stream",
     "text": [
      "Occurrences: Counter({2: 3, 1: 2, 3: 2, 4: 1})\n"
     ]
    }
   ],
   "source": [
    "# 4 Count the occurrence of each element in a list:\n",
    "  \n",
    "from collections import Counter\n",
    "\n",
    "def count_occurrences(lst):\n",
    "    return Counter(lst)\n",
    "\n",
    "# Example usage\n",
    "lst = [1, 2, 3, 2, 1, 2, 3, 4]\n",
    "occurrences = count_occurrences(lst)\n",
    "print(\"Occurrences:\", occurrences)\n"
   ]
  },
  {
   "cell_type": "code",
   "execution_count": 5,
   "id": "734382eb",
   "metadata": {},
   "outputs": [
    {
     "name": "stdout",
     "output_type": "stream",
     "text": [
      "The second largest number is: 7\n"
     ]
    }
   ],
   "source": [
    "# 5 Find the second largest number in a list:\n",
    "\n",
    "def find_second_largest(lst):\n",
    "    unique_nums = set(lst)\n",
    "    if len(unique_nums) < 2:\n",
    "        return None\n",
    "    unique_nums.remove(max(unique_nums))\n",
    "    return max(unique_nums)\n",
    "\n",
    "# Example usage\n",
    "lst = [5, 2, 9, 3, 7]\n",
    "second_largest = find_second_largest(lst)\n",
    "print(\"The second largest number is:\", second_largest)\n"
   ]
  },
  {
   "cell_type": "code",
   "execution_count": 6,
   "id": "6f270458",
   "metadata": {},
   "outputs": [
    {
     "name": "stdout",
     "output_type": "stream",
     "text": [
      "List after removing duplicates: [1, 2, 3, 4, 5]\n"
     ]
    }
   ],
   "source": [
    "# 6 Remove duplicate elements from a list:\n",
    "\n",
    "def remove_duplicates(lst):\n",
    "    return list(set(lst))\n",
    "\n",
    "# Example usage\n",
    "lst = [1, 2, 3, 2, 4, 1, 5, 4]\n",
    "unique_lst = remove_duplicates(lst)\n",
    "print(\"List after removing duplicates:\", unique_lst)\n"
   ]
  },
  {
   "cell_type": "code",
   "execution_count": 7,
   "id": "2ea1d6e9",
   "metadata": {},
   "outputs": [
    {
     "name": "stdout",
     "output_type": "stream",
     "text": [
      "Factorial of 5 is: 120\n"
     ]
    }
   ],
   "source": [
    "# 7 Calculate the factorial of a given number:\n",
    "\n",
    "def factorial(n):\n",
    "    if n == 0:\n",
    "        return 1\n",
    "    else:\n",
    "        return n * factorial(n - 1)\n",
    "\n",
    "# Example usage\n",
    "n = 5\n",
    "result = factorial(n)\n",
    "print(\"Factorial of\", n, \"is:\", result)\n"
   ]
  },
  {
   "cell_type": "code",
   "execution_count": 8,
   "id": "c32277c0",
   "metadata": {},
   "outputs": [
    {
     "name": "stdout",
     "output_type": "stream",
     "text": [
      "17 is a prime number.\n"
     ]
    }
   ],
   "source": [
    "# 8 Check if a given number is prime:\n",
    "\n",
    "def is_prime(n):\n",
    "    if n < 2:\n",
    "        return False\n",
    "    for i in range(2, int(n ** 0.5) + 1):\n",
    "        if n % i == 0:\n",
    "            return False\n",
    "    return True\n",
    "\n",
    "# Example usage\n",
    "num = 17\n",
    "if is_prime(num):\n",
    "    print(num, \"is a prime number.\")\n",
    "else:\n",
    "    print(num, \"is not a prime number.\")\n"
   ]
  },
  {
   "cell_type": "code",
   "execution_count": 9,
   "id": "23a3aaa5",
   "metadata": {},
   "outputs": [
    {
     "name": "stdout",
     "output_type": "stream",
     "text": [
      "Sorted list: [2, 3, 5, 7, 9]\n"
     ]
    }
   ],
   "source": [
    "# 9 Sort a list of integers in ascending order:\n",
    "\n",
    "def sort_list(lst):\n",
    "    return sorted(lst)\n",
    "\n",
    "# Example usage\n",
    "lst = [5, 2, 9, 3, 7]\n",
    "sorted_lst = sort_list(lst)\n",
    "print(\"Sorted list:\", sorted_lst)\n"
   ]
  },
  {
   "cell_type": "code",
   "execution_count": 10,
   "id": "9407ada9",
   "metadata": {},
   "outputs": [
    {
     "name": "stdout",
     "output_type": "stream",
     "text": [
      "Sum of numbers: 15\n"
     ]
    }
   ],
   "source": [
    "# 10 Find the sum of all numbers in a list:\n",
    "\n",
    "def find_sum(lst):\n",
    "    return sum(lst)\n",
    "\n",
    "# Example usage\n",
    "lst = [1, 2, 3, 4, 5]\n",
    "total_sum = find_sum(lst)\n",
    "print(\"Sum of numbers:\", total_sum)\n"
   ]
  },
  {
   "cell_type": "code",
   "execution_count": 11,
   "id": "4f218fd1",
   "metadata": {},
   "outputs": [
    {
     "name": "stdout",
     "output_type": "stream",
     "text": [
      "Sum of numbers: 15\n"
     ]
    }
   ],
   "source": [
    "# 11 Find the sum of all numbers in a list:\n",
    "\n",
    "def find_sum(lst):\n",
    "    return sum(lst)\n",
    "\n",
    "# Example usage\n",
    "lst = [1, 2, 3, 4, 5]\n",
    "total_sum = find_sum(lst)\n",
    "print(\"Sum of numbers:\", total_sum)\n"
   ]
  },
  {
   "cell_type": "code",
   "execution_count": 12,
   "id": "67bdc02d",
   "metadata": {},
   "outputs": [
    {
     "name": "stdout",
     "output_type": "stream",
     "text": [
      "Common elements: [4, 5]\n"
     ]
    }
   ],
   "source": [
    "# 12 Find the common elements between two lists:\n",
    "\n",
    "def find_common_elements(lst1, lst2):\n",
    "    return list(set(lst1) & set(lst2))\n",
    "\n",
    "# Example usage\n",
    "lst1 = [1, 2, 3, 4, 5]\n",
    "lst2 = [4, 5, 6, 7, 8]\n",
    "common_elements = find_common_elements(lst1, lst2)\n",
    "print(\"Common elements:\", common_elements)\n"
   ]
  },
  {
   "cell_type": "code",
   "execution_count": 13,
   "id": "d616f246",
   "metadata": {},
   "outputs": [
    {
     "name": "stdout",
     "output_type": "stream",
     "text": [
      "The strings are anagrams.\n"
     ]
    }
   ],
   "source": [
    "# 13 Check if a given string is an anagram of another string:\n",
    "\n",
    "def is_anagram(str1, str2):\n",
    "    return sorted(str1) == sorted(str2)\n",
    "\n",
    "# Example usage\n",
    "str1 = \"listen\"\n",
    "str2 = \"silent\"\n",
    "if is_anagram(str1, str2):\n",
    "    print(\"The strings are anagrams.\")\n",
    "else:\n",
    "    print(\"The strings are not anagrams.\")\n"
   ]
  },
  {
   "cell_type": "code",
   "execution_count": 14,
   "id": "d73a586e",
   "metadata": {},
   "outputs": [
    {
     "name": "stdout",
     "output_type": "stream",
     "text": [
      "Permutations: ['abc', 'acb', 'bac', 'bca', 'cab', 'cba']\n"
     ]
    }
   ],
   "source": [
    "# 14 Generate all permutations of a given string:\n",
    "\n",
    "from itertools import permutations\n",
    "\n",
    "def generate_permutations(s):\n",
    "    return [''.join(p) for p in permutations(s)]\n",
    "\n",
    "# Example usage\n",
    "s = \"abc\"\n",
    "permutations = generate_permutations(s)\n",
    "print(\"Permutations:\", permutations)\n"
   ]
  },
  {
   "cell_type": "code",
   "execution_count": 15,
   "id": "446641d5",
   "metadata": {},
   "outputs": [
    {
     "name": "stdout",
     "output_type": "stream",
     "text": [
      "Fibonacci sequence: [0, 1, 1, 2, 3, 5, 8, 13, 21, 34]\n"
     ]
    }
   ],
   "source": [
    "# 15 Calculate the Fibonacci sequence up to a given number of terms:\n",
    "\n",
    "def fibonacci_sequence(n):\n",
    "    sequence = [0, 1]\n",
    "    while len(sequence) < n:\n",
    "        sequence.append(sequence[-1] + sequence[-2])\n",
    "    return sequence\n",
    "\n",
    "# Example usage\n",
    "n = 10\n",
    "fib_sequence = fibonacci_sequence(n)\n",
    "print(\"Fibonacci sequence:\", fib_sequence)\n"
   ]
  },
  {
   "cell_type": "code",
   "execution_count": 16,
   "id": "af5fec53",
   "metadata": {},
   "outputs": [
    {
     "name": "stdout",
     "output_type": "stream",
     "text": [
      "Median: 5\n"
     ]
    }
   ],
   "source": [
    "# 16  Find the median of a list of numbers:\n",
    "\n",
    "def find_median(lst):\n",
    "    sorted_lst = sorted(lst)\n",
    "    n = len(sorted_lst)\n",
    "    if n % 2 == 0:\n",
    "        return (sorted_lst[n // 2 - 1] + sorted_lst[n // 2]) / 2\n",
    "    else:\n",
    "        return sorted_lst[n // 2]\n",
    "\n",
    "# Example usage\n",
    "lst = [4, 2, 8, 5, 1, 9, 6]\n",
    "median = find_median(lst)\n",
    "print(\"Median:\", median)\n"
   ]
  },
  {
   "cell_type": "code",
   "execution_count": 17,
   "id": "e03b42b1",
   "metadata": {},
   "outputs": [
    {
     "name": "stdout",
     "output_type": "stream",
     "text": [
      "The list is sorted.\n"
     ]
    }
   ],
   "source": [
    "# 17 Check if a given list is sorted in non-decreasing order:\n",
    "\n",
    "def is_sorted(lst):\n",
    "    return lst == sorted(lst)\n",
    "\n",
    "# Example usage\n",
    "lst = [1, 2, 3, 4, 5]\n",
    "if is_sorted(lst):\n",
    "    print(\"The list is sorted.\")\n",
    "else:\n",
    "    print(\"The list is not sorted.\")\n"
   ]
  },
  {
   "cell_type": "code",
   "execution_count": 18,
   "id": "efd670fc",
   "metadata": {},
   "outputs": [
    {
     "name": "stdout",
     "output_type": "stream",
     "text": [
      "Intersection: [4, 5]\n"
     ]
    }
   ],
   "source": [
    "# 18 Find the intersection of two lists:\n",
    "\n",
    "def find_intersection(lst1, lst2):\n",
    "    return list(set(lst1) & set(lst2))\n",
    "\n",
    "# Example usage\n",
    "lst1 = [1, 2, 3, 4, 5]\n",
    "lst2 = [4, 5, 6, 7, 8]\n",
    "intersection = find_intersection(lst1, lst2)\n",
    "print(\"Intersection:\", intersection)\n"
   ]
  },
  {
   "cell_type": "code",
   "execution_count": 19,
   "id": "e0e3f0aa",
   "metadata": {},
   "outputs": [
    {
     "name": "stdout",
     "output_type": "stream",
     "text": [
      "Maximum subarray sum: 6\n"
     ]
    }
   ],
   "source": [
    "# 19  Find the maximum subarray sum in a given list:\n",
    "\n",
    "def max_subarray_sum(lst):\n",
    "    if not lst:\n",
    "        return 0\n",
    "    \n",
    "    current_sum = lst[0]\n",
    "    max_sum = lst[0]\n",
    "    \n",
    "    for i in range(1, len(lst)):\n",
    "        current_sum = max(lst[i], current_sum + lst[i])\n",
    "        max_sum = max(max_sum, current_sum)\n",
    "    \n",
    "    return max_sum\n",
    "\n",
    "lst = [-2, 1, -3, 4, -1, 2, 1, -5, 4]\n",
    "max_sum = max_subarray_sum(lst)\n",
    "print(\"Maximum subarray sum:\", max_sum)\n",
    "\n",
    "    \n",
    "    \n"
   ]
  },
  {
   "cell_type": "code",
   "execution_count": 20,
   "id": "94142e35",
   "metadata": {},
   "outputs": [
    {
     "name": "stdout",
     "output_type": "stream",
     "text": [
      "String after removing vowels: Hll, Wrld!\n"
     ]
    }
   ],
   "source": [
    "# 20 Remove all vowels from a given string:\n",
    "\n",
    "def remove_vowels(string):\n",
    "    vowels = \"aeiouAEIOU\"\n",
    "    return ''.join(char for char in string if char not in vowels)\n",
    "\n",
    "# Example usage\n",
    "s = \"Hello, World!\"\n",
    "result = remove_vowels(s)\n",
    "print(\"String after removing vowels:\", result)\n"
   ]
  },
  {
   "cell_type": "code",
   "execution_count": 21,
   "id": "b8ce6e1f",
   "metadata": {},
   "outputs": [
    {
     "name": "stdout",
     "output_type": "stream",
     "text": [
      "Reversed sentence: Python. learning am I world! Hello,\n"
     ]
    }
   ],
   "source": [
    "# 21 Reverse the order of words in a given sentence:\n",
    "\n",
    "def reverse_words(sentence):\n",
    "    words = sentence.split()\n",
    "    reversed_words = ' '.join(reversed(words))\n",
    "    return reversed_words\n",
    "\n",
    "# Example usage\n",
    "sentence = \"Hello, world! I am learning Python.\"\n",
    "reversed_sentence = reverse_words(sentence)\n",
    "print(\"Reversed sentence:\", reversed_sentence)\n"
   ]
  },
  {
   "cell_type": "code",
   "execution_count": 22,
   "id": "1eafab6a",
   "metadata": {},
   "outputs": [
    {
     "name": "stdout",
     "output_type": "stream",
     "text": [
      "The strings are anagrams.\n"
     ]
    }
   ],
   "source": [
    "# 22 Check if two strings are anagrams of each other:\n",
    "\n",
    "def are_anagrams(str1, str2):\n",
    "    return sorted(str1) == sorted(str2)\n",
    "\n",
    "# Example usage\n",
    "str1 = \"listen\"\n",
    "str2 = \"silent\"\n",
    "if are_anagrams(str1, str2):\n",
    "    print(\"The strings are anagrams.\")\n",
    "else:\n",
    "    print(\"The strings are not anagrams.\")\n"
   ]
  },
  {
   "cell_type": "code",
   "execution_count": 23,
   "id": "69c7d465",
   "metadata": {},
   "outputs": [
    {
     "name": "stdout",
     "output_type": "stream",
     "text": [
      "First non-repeating character: c\n"
     ]
    }
   ],
   "source": [
    "# 23 Find the first non-repeating character in a string:\n",
    "\n",
    "def find_first_non_repeating_char(string):\n",
    "    char_count = {}\n",
    "    for char in string:\n",
    "        char_count[char] = char_count.get(char, 0) + 1\n",
    "    for char in string:\n",
    "        if char_count[char] == 1:\n",
    "            return char\n",
    "    return None\n",
    "\n",
    "# Example usage\n",
    "s = \"abracadabra\"\n",
    "first_non_repeating_char = find_first_non_repeating_char(s)\n",
    "print(\"First non-repeating character:\", first_non_repeating_char)\n"
   ]
  },
  {
   "cell_type": "code",
   "execution_count": 24,
   "id": "f3fe88b2",
   "metadata": {},
   "outputs": [
    {
     "name": "stdout",
     "output_type": "stream",
     "text": [
      "Prime factors of 24 : [2, 2, 2, 3]\n"
     ]
    }
   ],
   "source": [
    "# 24 Find the prime factors of a given number:\n",
    "\n",
    "def find_prime_factors(n):\n",
    "    factors = []\n",
    "    i = 2\n",
    "    while i <= n:\n",
    "        if n % i == 0:\n",
    "            factors.append(i)\n",
    "            n = n / i\n",
    "        else:\n",
    "            i = i + 1\n",
    "    return factors\n",
    "\n",
    "# Example usage\n",
    "num = 24\n",
    "prime_factors = find_prime_factors(num)\n",
    "print(\"Prime factors of\", num, \":\", prime_factors)\n"
   ]
  },
  {
   "cell_type": "code",
   "execution_count": 25,
   "id": "38d98155",
   "metadata": {},
   "outputs": [
    {
     "name": "stdout",
     "output_type": "stream",
     "text": [
      "16 is a power of two.\n"
     ]
    }
   ],
   "source": [
    "# 25 Check if a given number is a power of two:\n",
    "\n",
    "def is_power_of_two(n):\n",
    "    if n <= 0:\n",
    "        return False\n",
    "    while n > 1:\n",
    "        if n % 2 != 0:\n",
    "            return False\n",
    "        n = n // 2\n",
    "    return True\n",
    "\n",
    "# Example usage\n",
    "num = 16\n",
    "if is_power_of_two(num):\n",
    "    print(num, \"is a power of two.\")\n",
    "else:\n",
    "    print(num, \"is not a power of two.\")\n"
   ]
  },
  {
   "cell_type": "code",
   "execution_count": 26,
   "id": "6f6cd37e",
   "metadata": {},
   "outputs": [
    {
     "name": "stdout",
     "output_type": "stream",
     "text": [
      "Merged list: [1, 2, 3, 4, 5, 6, 7, 8]\n"
     ]
    }
   ],
   "source": [
    "# 26 Merge two sorted lists into a single sorted list:\n",
    "\n",
    "def merge_sorted_lists(lst1, lst2):\n",
    "    merged_list = []\n",
    "    i, j = 0, 0\n",
    "    while i < len(lst1) and j < len(lst2):\n",
    "        if lst1[i] < lst2[j]:\n",
    "            merged_list.append(lst1[i])\n",
    "            i += 1\n",
    "        else:\n",
    "            merged_list.append(lst2[j])\n",
    "            j += 1\n",
    "    merged_list.extend(lst1[i:])\n",
    "    merged_list.extend(lst2[j:])\n",
    "    return merged_list\n",
    "\n",
    "# Example usage\n",
    "lst1 = [1, 3, 5, 7]\n",
    "lst2 = [2, 4, 6, 8]\n",
    "merged_lst = merge_sorted_lists(lst1, lst2)\n",
    "print(\"Merged list:\", merged_lst)\n"
   ]
  },
  {
   "cell_type": "code",
   "execution_count": 27,
   "id": "ccee4deb",
   "metadata": {},
   "outputs": [
    {
     "name": "stdout",
     "output_type": "stream",
     "text": [
      "Mode(s): [1, 2, 4]\n"
     ]
    }
   ],
   "source": [
    "# 27 Find the mode of a list of numbers:\n",
    "\n",
    "from collections import Counter\n",
    "\n",
    "def find_mode(lst):\n",
    "    counter = Counter(lst)\n",
    "    max_count = max(counter.values())\n",
    "    modes = [num for num, count in counter.items() if count == max_count]\n",
    "    return modes\n",
    "\n",
    "# Example usage\n",
    "lst = [1, 2, 3, 2, 4, 1, 5, 4]\n",
    "modes = find_mode(lst)\n",
    "print(\"Mode(s):\", modes)\n"
   ]
  },
  {
   "cell_type": "code",
   "execution_count": 28,
   "id": "ab360ac3",
   "metadata": {},
   "outputs": [
    {
     "name": "stdout",
     "output_type": "stream",
     "text": [
      "GCD of 24 and 36 is: 12\n"
     ]
    }
   ],
   "source": [
    "# 28 Find the greatest common divisor (GCD) of two numbers:\n",
    "\n",
    "def find_gcd(a, b):\n",
    "    while b != 0:\n",
    "        a, b = b, a % b\n",
    "    return a\n",
    "\n",
    "# Example usage\n",
    "num1 = 24\n",
    "num2 = 36\n",
    "gcd = find_gcd(num1, num2)\n",
    "print(\"GCD of\", num1, \"and\", num2, \"is:\", gcd)\n"
   ]
  },
  {
   "cell_type": "code",
   "execution_count": 29,
   "id": "77622366",
   "metadata": {},
   "outputs": [
    {
     "name": "stdout",
     "output_type": "stream",
     "text": [
      "Square root of 25 is: 5.000000000053722\n"
     ]
    }
   ],
   "source": [
    "# 29 Calculate the square root of a given number:\n",
    "\n",
    "def calculate_square_root(n):\n",
    "    if n < 0:\n",
    "        return None\n",
    "    if n == 0:\n",
    "        return 0\n",
    "    x = n\n",
    "    while True:\n",
    "        y = (x + n / x) / 2\n",
    "        if abs(x - y) < 0.0001:\n",
    "            return y\n",
    "        x = y\n",
    "\n",
    "# Example usage\n",
    "num = 25\n",
    "sqrt = calculate_square_root(num)\n",
    "print(\"Square root of\", num, \"is:\", sqrt)\n"
   ]
  },
  {
   "cell_type": "code",
   "execution_count": 30,
   "id": "38f67ff7",
   "metadata": {},
   "outputs": [
    {
     "name": "stdout",
     "output_type": "stream",
     "text": [
      "The string is a valid palindrome.\n"
     ]
    }
   ],
   "source": [
    "# 30 Check if a given string is a valid palindrome ignoring non-alphanumeric characters:\n",
    "\n",
    "import re\n",
    "\n",
    "def is_valid_palindrome(s):\n",
    "    cleaned_str = re.sub(r'\\W+', '', s.lower())\n",
    "    return cleaned_str == cleaned_str[::-1]\n",
    "\n",
    "# Example usage\n",
    "string = \"A man, a plan, a canal: Panama\"\n",
    "if is_valid_palindrome(string):\n",
    "    print(\"The string is a valid palindrome.\")\n",
    "else:\n",
    "    print(\"The string is not a valid palindrome.\")\n"
   ]
  },
  {
   "cell_type": "code",
   "execution_count": 31,
   "id": "ec225c81",
   "metadata": {},
   "outputs": [
    {
     "name": "stdout",
     "output_type": "stream",
     "text": [
      "Minimum element: 0\n"
     ]
    }
   ],
   "source": [
    "# 31  Find the minimum element in a rotated sorted list:\n",
    "\n",
    "def find_minimum_element(lst):\n",
    "    left, right = 0, len(lst) - 1\n",
    "    while left < right:\n",
    "        mid = left + (right - left) // 2\n",
    "        if lst[mid] > lst[right]:\n",
    "            left = mid + 1\n",
    "        else:\n",
    "            right = mid\n",
    "    return lst[left]\n",
    "\n",
    "# Example usage\n",
    "lst = [4, 5, 6, 7, 0, 1, 2]\n",
    "min_element = find_minimum_element(lst)\n",
    "print(\"Minimum element:\", min_element)\n"
   ]
  },
  {
   "cell_type": "code",
   "execution_count": 32,
   "id": "06737036",
   "metadata": {},
   "outputs": [
    {
     "name": "stdout",
     "output_type": "stream",
     "text": [
      "Sum of even numbers: 30\n"
     ]
    }
   ],
   "source": [
    "# 32 Find the sum of all even numbers in a list:\n",
    "\n",
    "def sum_of_even_numbers(lst):\n",
    "    return sum(num for num in lst if num % 2 == 0)\n",
    "\n",
    "# Example usage\n",
    "lst = [1, 2, 3, 4, 5, 6, 7, 8, 9, 10]\n",
    "sum_even = sum_of_even_numbers(lst)\n",
    "print(\"Sum of even numbers:\", sum_even)\n"
   ]
  },
  {
   "cell_type": "code",
   "execution_count": 33,
   "id": "7c780e0e",
   "metadata": {},
   "outputs": [
    {
     "name": "stdout",
     "output_type": "stream",
     "text": [
      "2 raised to the power of 4 is: 16\n"
     ]
    }
   ],
   "source": [
    "# 33 Calculate the power of a number using recursion:\n",
    "\n",
    "def power(base, exponent):\n",
    "    if exponent == 0:\n",
    "        return 1\n",
    "    elif exponent < 0:\n",
    "        return 1 / power(base, -exponent)\n",
    "    elif exponent % 2 == 0:\n",
    "        result = power(base, exponent // 2)\n",
    "        return result * result\n",
    "    else:\n",
    "        result = power(base, (exponent - 1) // 2)\n",
    "        return result * result * base\n",
    "\n",
    "# Example usage\n",
    "base = 2\n",
    "exponent = 4\n",
    "result = power(base, exponent)\n",
    "print(base, \"raised to the power of\", exponent, \"is:\", result)\n"
   ]
  },
  {
   "cell_type": "code",
   "execution_count": 34,
   "id": "63837e34",
   "metadata": {},
   "outputs": [
    {
     "name": "stdout",
     "output_type": "stream",
     "text": [
      "List after removing duplicates: [1, 2, 3, 4, 5]\n"
     ]
    }
   ],
   "source": [
    "# 34  Remove duplicates from a list while preserving the order:\n",
    "\n",
    "def remove_duplicates(lst):\n",
    "    seen = set()\n",
    "    return [x for x in lst if not (x in seen or seen.add(x))]\n",
    "\n",
    "# Example usage\n",
    "lst = [1, 2, 3, 2, 4, 1, 5, 4]\n",
    "unique_lst = remove_duplicates(lst)\n",
    "print(\"List after removing duplicates:\", unique_lst)\n"
   ]
  },
  {
   "cell_type": "code",
   "execution_count": 35,
   "id": "4e6fae60",
   "metadata": {},
   "outputs": [
    {
     "name": "stdout",
     "output_type": "stream",
     "text": [
      "Longest common prefix: fl\n"
     ]
    }
   ],
   "source": [
    "# 35 Find the longest common prefix among a list of strings:\n",
    "\n",
    "def find_longest_common_prefix(strings):\n",
    "    if not strings:\n",
    "        return \"\"\n",
    "    prefix = strings[0]\n",
    "    for string in strings[1:]:\n",
    "        while string[:len(prefix)] != prefix:\n",
    "            prefix = prefix[:-1]\n",
    "            if not prefix:\n",
    "                return \"\"\n",
    "    return prefix\n",
    "\n",
    "# Example usage\n",
    "strings = [\"flower\", \"flow\", \"flight\"]\n",
    "common_prefix = find_longest_common_prefix(strings)\n",
    "print(\"Longest common prefix:\", common_prefix)\n"
   ]
  },
  {
   "cell_type": "code",
   "execution_count": 36,
   "id": "82621ade",
   "metadata": {},
   "outputs": [
    {
     "name": "stdout",
     "output_type": "stream",
     "text": [
      "25 is a perfect square.\n"
     ]
    }
   ],
   "source": [
    "# 36 Check if a given number is a perfect square:\n",
    "\n",
    "def is_perfect_square(num):\n",
    "    if num < 0:\n",
    "        return False\n",
    "    if num == 0:\n",
    "        return True\n",
    "    left, right = 1, num\n",
    "    while left <= right:\n",
    "        mid = left + (right - left) // 2\n",
    "        square = mid * mid\n",
    "        if square == num:\n",
    "            return True\n",
    "        elif square < num:\n",
    "            left = mid + 1\n",
    "        else:\n",
    "            right = mid - 1\n",
    "    return False\n",
    "\n",
    "# Example usage\n",
    "num = 25\n",
    "if is_perfect_square(num):\n",
    "    print(num, \"is a perfect square.\")\n",
    "else:\n",
    "    print(num, \"is not a perfect square.\")\n"
   ]
  },
  {
   "cell_type": "code",
   "execution_count": 37,
   "id": "d2d9b0b2",
   "metadata": {},
   "outputs": [
    {
     "name": "stdout",
     "output_type": "stream",
     "text": [
      "Product of elements: 120\n"
     ]
    }
   ],
   "source": [
    "# 37 Calculate the product of all elements in a list:\n",
    "\n",
    "def calculate_product(lst):\n",
    "    product = 1\n",
    "    for num in lst:\n",
    "        product *= num\n",
    "    return product\n",
    "\n",
    "# Example usage\n",
    "lst = [1, 2, 3, 4, 5]\n",
    "product = calculate_product(lst)\n",
    "print(\"Product of elements:\", product)\n"
   ]
  },
  {
   "cell_type": "code",
   "execution_count": 38,
   "id": "7ee8549c",
   "metadata": {},
   "outputs": [
    {
     "name": "stdout",
     "output_type": "stream",
     "text": [
      "Reversed sentence: Python. learning am I world! Hello,\n"
     ]
    }
   ],
   "source": [
    "# 38  Reverse the order of words in a sentence while preserving the word order:\n",
    "\n",
    "def reverse_sentence(sentence):\n",
    "    words = sentence.split()\n",
    "    reversed_words = ' '.join(reversed(words))\n",
    "    return reversed_words\n",
    "\n",
    "# Example usage\n",
    "sentence = \"Hello, world! I am learning Python.\"\n",
    "reversed_sentence = reverse_sentence(sentence)\n",
    "print(\"Reversed sentence:\", reversed_sentence)\n"
   ]
  },
  {
   "cell_type": "code",
   "execution_count": 39,
   "id": "234db92a",
   "metadata": {},
   "outputs": [
    {
     "name": "stdout",
     "output_type": "stream",
     "text": [
      "Missing number: 4\n"
     ]
    }
   ],
   "source": [
    "# 39 Find the missing number in a given list of consecutive numbers:\n",
    "\n",
    "def find_missing_number(lst):\n",
    "    n = len(lst) + 1\n",
    "    expected_sum = n * (n + 1) // 2\n",
    "    actual_sum = sum(lst)\n",
    "    return expected_sum - actual_sum\n",
    "\n",
    "# Example usage\n",
    "lst = [1, 2, 3, 5, 6, 7, 8, 9]\n",
    "missing_number = find_missing_number(lst)\n",
    "print(\"Missing number:\", missing_number)\n"
   ]
  },
  {
   "cell_type": "code",
   "execution_count": 40,
   "id": "42d18e13",
   "metadata": {},
   "outputs": [
    {
     "name": "stdout",
     "output_type": "stream",
     "text": [
      "Sum of digits: 15\n"
     ]
    }
   ],
   "source": [
    "# 40 Find the sum of digits of a given number:\n",
    "\n",
    "def sum_of_digits(n):\n",
    "    return sum(int(digit) for digit in str(n) if digit.isdigit())\n",
    "\n",
    "# Example usage\n",
    "num = 12345\n",
    "digit_sum = sum_of_digits(num)\n",
    "print(\"Sum of digits:\", digit_sum)\n"
   ]
  },
  {
   "cell_type": "code",
   "execution_count": 41,
   "id": "805ab7e4",
   "metadata": {},
   "outputs": [
    {
     "name": "stdout",
     "output_type": "stream",
     "text": [
      "The string is a valid palindrome.\n"
     ]
    }
   ],
   "source": [
    "# 41 Check if a given string is a valid palindrome considering case sensitivity:\n",
    "\n",
    "def is_valid_palindrome_case_sensitive(s):\n",
    "    return s == s[::-1]\n",
    "\n",
    "# Example usage\n",
    "string = \"level\"\n",
    "if is_valid_palindrome_case_sensitive(string):\n",
    "    print(\"The string is a valid palindrome.\")\n",
    "else:\n",
    "    print(\"The string is not a valid palindrome.\")\n"
   ]
  },
  {
   "cell_type": "code",
   "execution_count": 42,
   "id": "c70f1275",
   "metadata": {},
   "outputs": [
    {
     "name": "stdout",
     "output_type": "stream",
     "text": [
      "Smallest missing positive integer: 2\n"
     ]
    }
   ],
   "source": [
    "# 42 Find the smallest missing positive integer in a list:\n",
    "\n",
    "def find_smallest_missing_positive_integer(lst):\n",
    "    n = len(lst)\n",
    "    for i in range(n):\n",
    "        while 1 <= lst[i] <= n and lst[i] != lst[lst[i] - 1]:\n",
    "            lst[lst[i] - 1], lst[i] = lst[i], lst[lst[i] - 1]\n",
    "    for i in range(n):\n",
    "        if lst[i] != i + 1:\n",
    "            return i + 1\n",
    "    return n + 1\n",
    "\n",
    "# Example usage\n",
    "lst = [3, 4, -1, 1]\n",
    "smallest_missing = find_smallest_missing_positive_integer(lst)\n",
    "print(\"Smallest missing positive integer:\", smallest_missing)\n"
   ]
  },
  {
   "cell_type": "code",
   "execution_count": 43,
   "id": "a372822f",
   "metadata": {},
   "outputs": [
    {
     "name": "stdout",
     "output_type": "stream",
     "text": [
      "Longest palindrome substring: aba\n"
     ]
    }
   ],
   "source": [
    "# 43  Find the longest palindrome substring in a given string:\n",
    "\n",
    "def find_longest_palindrome_substring(s):\n",
    "    n = len(s)\n",
    "    start, end = 0, 0\n",
    "    for i in range(n):\n",
    "        len1 = expand_around_center(s, i, i)\n",
    "        len2 = expand_around_center(s, i, i + 1)\n",
    "        max_len = max(len1, len2)\n",
    "        if max_len > end - start:\n",
    "            start = i - (max_len - 1) // 2\n",
    "            end = i + max_len // 2\n",
    "    return s[start:end + 1]\n",
    "\n",
    "def expand_around_center(s, left, right):\n",
    "    while left >= 0 and right < len(s) and s[left] == s[right]:\n",
    "        left -= 1\n",
    "        right += 1\n",
    "    return right - left - 1\n",
    "\n",
    "# Example usage\n",
    "string = \"babad\"\n",
    "longest_palindrome = find_longest_palindrome_substring(string)\n",
    "print(\"Longest palindrome substring:\", longest_palindrome)\n"
   ]
  },
  {
   "cell_type": "code",
   "execution_count": 44,
   "id": "2c4bcdeb",
   "metadata": {},
   "outputs": [
    {
     "name": "stdout",
     "output_type": "stream",
     "text": [
      "Occurrences of 2 in the list: 2\n"
     ]
    }
   ],
   "source": [
    "# 44 Find the number of occurrences of a given element in a list:\n",
    "\n",
    "def count_occurrences(lst, element):\n",
    "    return lst.count(element)\n",
    "\n",
    "# Example usage\n",
    "lst = [1, 2, 3, 2, 4, 1, 5, 4]\n",
    "element = 2\n",
    "occurrences = count_occurrences(lst, element)\n",
    "print(\"Occurrences of\", element, \"in the list:\", occurrences)\n"
   ]
  },
  {
   "cell_type": "code",
   "execution_count": 45,
   "id": "bb6a77b9",
   "metadata": {},
   "outputs": [
    {
     "name": "stdout",
     "output_type": "stream",
     "text": [
      "28 is a perfect number.\n"
     ]
    }
   ],
   "source": [
    "# 45 Check if a given number is a perfect number:\n",
    "\n",
    "def is_perfect_number(num):\n",
    "    if num < 2:\n",
    "        return False\n",
    "    divisors = [1]\n",
    "    for i in range(2, int(num ** 0.5) + 1):\n",
    "        if num % i == 0:\n",
    "            divisors.extend([i, num // i])\n",
    "    return sum(divisors) == num\n",
    "\n",
    "# Example usage\n",
    "num = 28\n",
    "if is_perfect_number(num):\n",
    "    print(num, \"is a perfect number.\")\n",
    "else:\n",
    "    print(num, \"is not a perfect number.\")\n"
   ]
  },
  {
   "cell_type": "code",
   "execution_count": 46,
   "id": "33df29ed",
   "metadata": {},
   "outputs": [
    {
     "name": "stdout",
     "output_type": "stream",
     "text": [
      "String after removing duplicates: Wle !rHo,d\n"
     ]
    }
   ],
   "source": [
    "# 46 Remove all duplicates from a string:\n",
    "\n",
    "def remove_duplicates(string):\n",
    "    return ''.join(set(string))\n",
    "\n",
    "# Example usage\n",
    "s = \"Hello, World!\"\n",
    "result = remove_duplicates(s)\n",
    "print(\"String after removing duplicates:\", result)\n"
   ]
  },
  {
   "cell_type": "code",
   "execution_count": 47,
   "id": "6cff571f",
   "metadata": {},
   "outputs": [
    {
     "name": "stdout",
     "output_type": "stream",
     "text": [
      "First missing positive integer: 2\n"
     ]
    }
   ],
   "source": [
    "# 47 Find the first missing positive integer:\n",
    "\n",
    "def find_first_missing_positive(nums):\n",
    "    n = len(nums)\n",
    "    for i in range(n):\n",
    "        while 1 <= nums[i] <= n and nums[i] != nums[nums[i] - 1]:\n",
    "            nums[nums[i] - 1], nums[i] = nums[i], nums[nums[i] - 1]\n",
    "    for i in range(n):\n",
    "        if nums[i] != i + 1:\n",
    "            return i + 1\n",
    "    return n + 1\n",
    "\n",
    "# Example usage\n",
    "nums = [3, 4, -1, 1]\n",
    "missing = find_first_missing_positive(nums)\n",
    "print(\"First missing positive integer:\", missing)\n"
   ]
  },
  {
   "cell_type": "markdown",
   "id": "ada69cc3",
   "metadata": {},
   "source": [
    "# Yes.. Now You Are Ready To Ace Python Interview...!!"
   ]
  }
 ],
 "metadata": {
  "kernelspec": {
   "display_name": "Python 3 (ipykernel)",
   "language": "python",
   "name": "python3"
  },
  "language_info": {
   "codemirror_mode": {
    "name": "ipython",
    "version": 3
   },
   "file_extension": ".py",
   "mimetype": "text/x-python",
   "name": "python",
   "nbconvert_exporter": "python",
   "pygments_lexer": "ipython3",
   "version": "3.10.9"
  }
 },
 "nbformat": 4,
 "nbformat_minor": 5
}
