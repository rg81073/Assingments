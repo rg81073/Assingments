{
 "cells": [
  {
   "cell_type": "code",
   "execution_count": null,
   "id": "47f5e3a1",
   "metadata": {},
   "outputs": [],
   "source": [
    "Question1\n",
    "Create a function that takes an integer and returns a list from 1 to the given number, where:\n",
    "1.\tIf the number can be divided evenly by 4, amplify it by 10 (i.e. return 10 times the number).\n",
    "2.\tIf the number cannot be divided evenly by 4, simply return the number.\n",
    "Examples\n",
    "amplify(4) ➞ [1, 2, 3, 40]\n",
    "\n",
    "amplify(3) ➞ [1, 2, 3]\n",
    "\n",
    "amplify(25) ➞ [1, 2, 3, 40, 5, 6, 7, 80, 9, 10, 11, 120, 13, 14, 15, 160, 17, 18, 19, 200, 21, 22, 23, 240, 25]\n",
    "Notes\n",
    "•\tThe given integer will always be equal to or greater than 1.\n",
    "•\tInclude the number (see example above).\n",
    "•\tTo perform this problem with its intended purpose, try doing it with list comprehensions. If that's too difficult, just solve the challenge any way you can.\n",
    "\n",
    "Question2\n",
    "Create a function that takes a list of numbers and return the number that's unique.\n",
    "Examples\n",
    "unique([3, 3, 3, 7, 3, 3]) ➞ 7\n",
    "\n",
    "unique([0, 0, 0.77, 0, 0]) ➞ 0.77\n",
    "\n",
    "unique([0, 1, 1, 1, 1, 1, 1, 1]) ➞ 0\n",
    "Notes\n",
    "Test cases will always have exactly one unique number while all others are the same.\n",
    "\n",
    "Question3\n",
    "Your task is to create a Circle constructor that creates a circle with a radius provided by an argument. The circles constructed must have two getters getArea() (PIr^2) and getPerimeter() (2PI*r) which give both respective areas and perimeter (circumference).\n",
    "For help with this class, I have provided you with a Rectangle constructor which you can use as a base example.\n",
    "Examples\n",
    "circy = Circle(11)\n",
    "circy.getArea()\n",
    "\n",
    "# Should return 380.132711084365\n",
    "\n",
    "circy = Circle(4.44)\n",
    "circy.getPerimeter()\n",
    "\n",
    "# Should return 27.897342763877365\n",
    "Notes\n",
    "Round results up to the nearest integer.\n",
    "\n",
    "Question4\n",
    "Create a function that takes a list of strings and return a list, sorted from shortest to longest.\n",
    "Examples\n",
    "sort_by_length([\"Google\", \"Apple\", \"Microsoft\"])\n",
    "➞ [\"Apple\", \"Google\", \"Microsoft\"]\n",
    "\n",
    "sort_by_length([\"Leonardo\", \"Michelangelo\", \"Raphael\", \"Donatello\"])\n",
    "➞ [\"Raphael\", \"Leonardo\", \"Donatello\", \"Michelangelo\"]\n",
    "\n",
    "sort_by_length([\"Turing\", \"Einstein\", \"Jung\"])\n",
    "➞ [\"Jung\", \"Turing\", \"Einstein\"]\n",
    "Notes\n",
    "All test cases contain lists with strings of different lengths, so you won't have to deal with multiple strings of the same length.\n",
    "\n",
    "Question5\n",
    "Create a function that validates whether three given integers form a Pythagorean triplet. The sum of the squares of the two smallest integers must equal the square of the largest number to be validated.\n",
    "\n",
    "\n",
    "Examples\n",
    "is_triplet(3, 4, 5) ➞ True\n",
    "# 3² + 4² = 25\n",
    "# 5² = 25\n",
    "\n",
    "is_triplet(13, 5, 12) ➞ True\n",
    "# 5² + 12² = 169\n",
    "# 13² = 169\n",
    "\n",
    "is_triplet(1, 2, 3) ➞ False\n",
    "# 1² + 2² = 5\n",
    "# 3² = 9\n",
    "Notes\n",
    "Numbers may not be given in a sorted order.\n",
    "\n",
    "\n"
   ]
  },
  {
   "cell_type": "markdown",
   "id": "cc2e4336",
   "metadata": {},
   "source": [
    "# Solutions"
   ]
  },
  {
   "cell_type": "code",
   "execution_count": 2,
   "id": "3e51d332",
   "metadata": {},
   "outputs": [
    {
     "data": {
      "text/plain": [
       "[1, 2, 3, 40]"
      ]
     },
     "execution_count": 2,
     "metadata": {},
     "output_type": "execute_result"
    }
   ],
   "source": [
    "# Question1\n",
    "# Create a function that takes an integer and returns a list from 1 to the given number, where:\n",
    "# 1.\tIf the number can be divided evenly by 4, amplify it by 10 (i.e. return 10 times the number).\n",
    "# 2.\tIf the number cannot be divided evenly by 4, simply return the number.\n",
    "# Examples\n",
    "# amplify(4) ➞ [1, 2, 3, 40]\n",
    "\n",
    "# amplify(3) ➞ [1, 2, 3]\n",
    "\n",
    "# amplify(25) ➞ [1, 2, 3, 40, 5, 6, 7, 80, 9, 10, 11, 120, 13, 14, 15, 160, 17, 18, 19, 200, 21, 22, 23, 240, 25]\n",
    "# Notes\n",
    "# •\tThe given integer will always be equal to or greater than 1.\n",
    "# •\tInclude the number (see example above).\n",
    "# •\tTo perform this problem with its intended purpose, try doing it with list comprehensions. If that's too difficult, just solve the challenge any way you can.\n",
    "\n",
    "def amplify(num):\n",
    "    lst = []\n",
    "    for i in range(1, num+1):\n",
    "        if i % 4 == 0:\n",
    "            lst.append(i*10)\n",
    "        else:\n",
    "            lst.append(i)\n",
    "    return lst\n",
    "amplify(4)\n",
    "\n"
   ]
  },
  {
   "cell_type": "code",
   "execution_count": 4,
   "id": "a54f4a03",
   "metadata": {},
   "outputs": [
    {
     "data": {
      "text/plain": [
       "[1, 2, 3]"
      ]
     },
     "execution_count": 4,
     "metadata": {},
     "output_type": "execute_result"
    }
   ],
   "source": [
    "def amplify(num):\n",
    "    lst = []\n",
    "    for i in range(1, num+1):\n",
    "        if i % 4 == 0:\n",
    "            lst.append(i*10)\n",
    "        else:\n",
    "            lst.append(i)\n",
    "    return lst\n",
    "amplify(3) "
   ]
  },
  {
   "cell_type": "code",
   "execution_count": 5,
   "id": "faef6be8",
   "metadata": {},
   "outputs": [
    {
     "data": {
      "text/plain": [
       "[1,\n",
       " 2,\n",
       " 3,\n",
       " 40,\n",
       " 5,\n",
       " 6,\n",
       " 7,\n",
       " 80,\n",
       " 9,\n",
       " 10,\n",
       " 11,\n",
       " 120,\n",
       " 13,\n",
       " 14,\n",
       " 15,\n",
       " 160,\n",
       " 17,\n",
       " 18,\n",
       " 19,\n",
       " 200,\n",
       " 21,\n",
       " 22,\n",
       " 23,\n",
       " 240,\n",
       " 25]"
      ]
     },
     "execution_count": 5,
     "metadata": {},
     "output_type": "execute_result"
    }
   ],
   "source": [
    "def amplify(num):\n",
    "    lst = []\n",
    "    for i in range(1, num+1):\n",
    "        if i % 4 == 0:\n",
    "            lst.append(i*10)\n",
    "        else:\n",
    "            lst.append(i)\n",
    "    return lst\n",
    "amplify(25)"
   ]
  },
  {
   "cell_type": "code",
   "execution_count": 6,
   "id": "02ba84f2",
   "metadata": {},
   "outputs": [
    {
     "data": {
      "text/plain": [
       "7"
      ]
     },
     "execution_count": 6,
     "metadata": {},
     "output_type": "execute_result"
    }
   ],
   "source": [
    "# Question2\n",
    "# Create a function that takes a list of numbers and return the number that's unique.\n",
    "# Examples\n",
    "# unique([3, 3, 3, 7, 3, 3]) ➞ 7\n",
    "\n",
    "# unique([0, 0, 0.77, 0, 0]) ➞ 0.77\n",
    "\n",
    "# unique([0, 1, 1, 1, 1, 1, 1, 1]) ➞ 0\n",
    "# Notes\n",
    "# Test cases will always have exactly one unique number while all others are the same.\n",
    "\n",
    "\n",
    "def unique(lst):\n",
    "    d = {}\n",
    "    for num in lst:\n",
    "        if num in d:\n",
    "            d[num] += 1\n",
    "        else:\n",
    "            d[num] = 1\n",
    "    for key, value in d.items():\n",
    "        if value == 1:\n",
    "            return key\n",
    "unique([3, 3, 3, 7, 3, 3]) "
   ]
  },
  {
   "cell_type": "code",
   "execution_count": 7,
   "id": "12a74b0e",
   "metadata": {},
   "outputs": [
    {
     "data": {
      "text/plain": [
       "0.77"
      ]
     },
     "execution_count": 7,
     "metadata": {},
     "output_type": "execute_result"
    }
   ],
   "source": [
    "def unique(lst):\n",
    "    d = {}\n",
    "    for num in lst:\n",
    "        if num in d:\n",
    "            d[num] += 1\n",
    "        else:\n",
    "            d[num] = 1\n",
    "    for key, value in d.items():\n",
    "        if value == 1:\n",
    "            return key\n",
    "unique([0, 0, 0.77, 0, 0]) "
   ]
  },
  {
   "cell_type": "code",
   "execution_count": 8,
   "id": "47e62dd3",
   "metadata": {},
   "outputs": [
    {
     "data": {
      "text/plain": [
       "0"
      ]
     },
     "execution_count": 8,
     "metadata": {},
     "output_type": "execute_result"
    }
   ],
   "source": [
    "def unique(lst):\n",
    "    d = {}\n",
    "    for num in lst:\n",
    "        if num in d:\n",
    "            d[num] += 1\n",
    "        else:\n",
    "            d[num] = 1\n",
    "    for key, value in d.items():\n",
    "        if value == 1:\n",
    "            return key\n",
    "unique([0, 1, 1, 1, 1, 1, 1, 1]) "
   ]
  },
  {
   "cell_type": "code",
   "execution_count": 9,
   "id": "3b42639a",
   "metadata": {},
   "outputs": [
    {
     "data": {
      "text/plain": [
       "380.132711084365"
      ]
     },
     "execution_count": 9,
     "metadata": {},
     "output_type": "execute_result"
    }
   ],
   "source": [
    "# Question3\n",
    "# Your task is to create a Circle constructor that creates a circle with a radius provided by an argument. The circles constructed must have two getters getArea() (PIr^2) and getPerimeter() (2PI*r) which give both respective areas and perimeter (circumference).\n",
    "# For help with this class, I have provided you with a Rectangle constructor which you can use as a base example.\n",
    "# Examples\n",
    "# circy = Circle(11)\n",
    "# circy.getArea()\n",
    "\n",
    "# # Should return 380.132711084365\n",
    "\n",
    "# circy = Circle(4.44)\n",
    "# circy.getPerimeter()\n",
    "\n",
    "# # Should return 27.897342763877365\n",
    "# Notes\n",
    "# Round results up to the nearest integer.\n",
    "\n",
    "\n",
    "\n",
    "import math\n",
    "\n",
    "class Circle:\n",
    "    def __init__(self, radius):\n",
    "        self.radius = radius\n",
    "    \n",
    "    def getArea(self):\n",
    "        return math.pi * self.radius ** 2\n",
    "    \n",
    "    def getPerimeter(self):\n",
    "        return 2 * math.pi * self.radius\n",
    "circy = Circle(11)\n",
    "circy.getArea()\n"
   ]
  },
  {
   "cell_type": "code",
   "execution_count": 11,
   "id": "6e7c1511",
   "metadata": {},
   "outputs": [
    {
     "data": {
      "text/plain": [
       "['Apple', 'Google', 'Microsoft']"
      ]
     },
     "execution_count": 11,
     "metadata": {},
     "output_type": "execute_result"
    }
   ],
   "source": [
    "# Question4\n",
    "# Create a function that takes a list of strings and return a list, sorted from shortest to longest.\n",
    "# Examples\n",
    "# sort_by_length([\"Google\", \"Apple\", \"Microsoft\"])\n",
    "# ➞ [\"Apple\", \"Google\", \"Microsoft\"]\n",
    "\n",
    "# sort_by_length([\"Leonardo\", \"Michelangelo\", \"Raphael\", \"Donatello\"])\n",
    "# ➞ [\"Raphael\", \"Leonardo\", \"Donatello\", \"Michelangelo\"]\n",
    "\n",
    "# sort_by_length([\"Turing\", \"Einstein\", \"Jung\"])\n",
    "# ➞ [\"Jung\", \"Turing\", \"Einstein\"]\n",
    "\n",
    "\n",
    "def sort_by_length(lst):\n",
    "    return sorted(lst, key=len)\n",
    "\n",
    "sort_by_length([\"Google\", \"Apple\", \"Microsoft\"])"
   ]
  },
  {
   "cell_type": "code",
   "execution_count": null,
   "id": "665678b9",
   "metadata": {},
   "outputs": [],
   "source": [
    "def sort_by_length(lst):\n",
    "    return sorted(lst, key=len)\n",
    "\n",
    "sort_by_length([\"Leonardo\", \"Michelangelo\", \"Raphael\", \"Donatello\"])"
   ]
  },
  {
   "cell_type": "code",
   "execution_count": 12,
   "id": "907f4f2f",
   "metadata": {},
   "outputs": [
    {
     "data": {
      "text/plain": [
       "['Jung', 'Turing', 'Einstein']"
      ]
     },
     "execution_count": 12,
     "metadata": {},
     "output_type": "execute_result"
    }
   ],
   "source": [
    "def sort_by_length(lst):\n",
    "    return sorted(lst, key=len)\n",
    "\n",
    "sort_by_length([\"Turing\", \"Einstein\", \"Jung\"])"
   ]
  },
  {
   "cell_type": "code",
   "execution_count": 13,
   "id": "cf40989c",
   "metadata": {},
   "outputs": [
    {
     "data": {
      "text/plain": [
       "True"
      ]
     },
     "execution_count": 13,
     "metadata": {},
     "output_type": "execute_result"
    }
   ],
   "source": [
    "# Question5\n",
    "# Create a function that validates whether three given integers form a Pythagorean triplet. The sum of the squares of the two smallest integers must equal the square of the largest number to be validated.\n",
    "\n",
    "\n",
    "# Examples\n",
    "# is_triplet(3, 4, 5) ➞ True\n",
    "# # 3² + 4² = 25\n",
    "# # 5² = 25\n",
    "\n",
    "# is_triplet(13, 5, 12) ➞ True\n",
    "# # 5² + 12² = 169\n",
    "# # 13² = 169\n",
    "\n",
    "# is_triplet(1, 2, 3) ➞ False\n",
    "# # 1² + 2² = 5\n",
    "# # 3² = 9\n",
    "\n",
    "\n",
    "def is_triplet(n1, n2, n3):\n",
    "    lst = [n1,n2,n3]\n",
    "    lst.sort()\n",
    "    if lst[0]**2 + lst[1]**2 == lst[2]**2:\n",
    "        return True\n",
    "    else:\n",
    "        return False\n",
    "is_triplet(3, 4, 5)\n"
   ]
  },
  {
   "cell_type": "code",
   "execution_count": 15,
   "id": "14ef2ee3",
   "metadata": {},
   "outputs": [
    {
     "data": {
      "text/plain": [
       "True"
      ]
     },
     "execution_count": 15,
     "metadata": {},
     "output_type": "execute_result"
    }
   ],
   "source": [
    "def is_triplet(n1, n2, n3):\n",
    "    lst = [n1,n2,n3]\n",
    "    lst.sort()\n",
    "    if lst[0]**2 + lst[1]**2 == lst[2]**2:\n",
    "        return True\n",
    "    else:\n",
    "        return False\n",
    "    \n",
    "is_triplet(13, 5, 12)"
   ]
  },
  {
   "cell_type": "code",
   "execution_count": 14,
   "id": "5009380c",
   "metadata": {},
   "outputs": [
    {
     "data": {
      "text/plain": [
       "False"
      ]
     },
     "execution_count": 14,
     "metadata": {},
     "output_type": "execute_result"
    }
   ],
   "source": [
    "def is_triplet(n1, n2, n3):\n",
    "    lst = [n1,n2,n3]\n",
    "    lst.sort()\n",
    "    if lst[0]**2 + lst[1]**2 == lst[2]**2:\n",
    "        return True\n",
    "    else:\n",
    "        return False\n",
    "    \n",
    "is_triplet(1, 2, 3)"
   ]
  },
  {
   "cell_type": "markdown",
   "id": "4ebac936",
   "metadata": {},
   "source": [
    "# Done"
   ]
  },
  {
   "cell_type": "code",
   "execution_count": null,
   "id": "72410d20",
   "metadata": {},
   "outputs": [],
   "source": []
  },
  {
   "cell_type": "code",
   "execution_count": null,
   "id": "ad4d27e7",
   "metadata": {},
   "outputs": [],
   "source": []
  },
  {
   "cell_type": "code",
   "execution_count": null,
   "id": "959680c6",
   "metadata": {},
   "outputs": [],
   "source": []
  },
  {
   "cell_type": "code",
   "execution_count": null,
   "id": "a2725076",
   "metadata": {},
   "outputs": [],
   "source": []
  },
  {
   "cell_type": "code",
   "execution_count": null,
   "id": "10753f73",
   "metadata": {},
   "outputs": [],
   "source": []
  },
  {
   "cell_type": "code",
   "execution_count": null,
   "id": "552b7f65",
   "metadata": {},
   "outputs": [],
   "source": []
  },
  {
   "cell_type": "code",
   "execution_count": null,
   "id": "d267b0e5",
   "metadata": {},
   "outputs": [],
   "source": []
  },
  {
   "cell_type": "code",
   "execution_count": null,
   "id": "1e8a0a77",
   "metadata": {},
   "outputs": [],
   "source": []
  },
  {
   "cell_type": "code",
   "execution_count": null,
   "id": "deb94653",
   "metadata": {},
   "outputs": [],
   "source": []
  },
  {
   "cell_type": "code",
   "execution_count": null,
   "id": "d12ffee1",
   "metadata": {},
   "outputs": [],
   "source": []
  },
  {
   "cell_type": "code",
   "execution_count": null,
   "id": "a786c395",
   "metadata": {},
   "outputs": [],
   "source": []
  },
  {
   "cell_type": "code",
   "execution_count": null,
   "id": "5aae22c3",
   "metadata": {},
   "outputs": [],
   "source": []
  },
  {
   "cell_type": "code",
   "execution_count": null,
   "id": "54664847",
   "metadata": {},
   "outputs": [],
   "source": []
  },
  {
   "cell_type": "code",
   "execution_count": null,
   "id": "0c1e6fcb",
   "metadata": {},
   "outputs": [],
   "source": []
  },
  {
   "cell_type": "code",
   "execution_count": null,
   "id": "8317ea26",
   "metadata": {},
   "outputs": [],
   "source": []
  }
 ],
 "metadata": {
  "kernelspec": {
   "display_name": "Python 3 (ipykernel)",
   "language": "python",
   "name": "python3"
  },
  "language_info": {
   "codemirror_mode": {
    "name": "ipython",
    "version": 3
   },
   "file_extension": ".py",
   "mimetype": "text/x-python",
   "name": "python",
   "nbconvert_exporter": "python",
   "pygments_lexer": "ipython3",
   "version": "3.9.7"
  }
 },
 "nbformat": 4,
 "nbformat_minor": 5
}
