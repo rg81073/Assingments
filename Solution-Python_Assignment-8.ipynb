{
 "cells": [
  {
   "cell_type": "code",
   "execution_count": null,
   "id": "f2c4cb39",
   "metadata": {},
   "outputs": [],
   "source": [
    "1.\tWrite a Python Program to Add Two Matrices?\n",
    "2.\tWrite a Python Program to Multiply Two Matrices?\n",
    "3.\tWrite a Python Program to Transpose a Matrix?\n",
    "4.\tWrite a Python Program to Sort Words in Alphabetic Order?\n",
    "5.\tWrite a Python Program to Remove Punctuation From a String?\n"
   ]
  },
  {
   "cell_type": "code",
   "execution_count": 3,
   "id": "5cc66960",
   "metadata": {},
   "outputs": [
    {
     "name": "stdout",
     "output_type": "stream",
     "text": [
      "[11, 13, 15]\n",
      "[17, 19, 21]\n",
      "[23, 25, 27]\n"
     ]
    }
   ],
   "source": [
    "# 1.\tWrite a Python Program to Add Two Matrices?\n",
    "\n",
    "# define the matrices\n",
    "\n",
    "matrix1 = [[1, 2, 3],\n",
    "           [4, 5, 6],\n",
    "           [7, 8, 9]]\n",
    "\n",
    "matrix2 = [[10, 11, 12],\n",
    "           [13, 14, 15],\n",
    "           [16, 17, 18]]\n",
    "\n",
    "# initialize a new matrix to hold the sum\n",
    "\n",
    "matrix_sum = [[0, 0, 0],\n",
    "              [0, 0, 0],\n",
    "              [0, 0, 0]]\n",
    "\n",
    "# iterate through each element of the matrices and add them\n",
    "\n",
    "for i in range(len(matrix1)):\n",
    "    for j in range(len(matrix1[0])):\n",
    "        matrix_sum[i][j] = matrix1[i][j] + matrix2[i][j]\n",
    "\n",
    "# print the resulting matrix\n",
    "for row in matrix_sum:\n",
    "    print(row)\n"
   ]
  },
  {
   "cell_type": "code",
   "execution_count": 1,
   "id": "a5071045",
   "metadata": {},
   "outputs": [
    {
     "name": "stdout",
     "output_type": "stream",
     "text": [
      "[84, 90, 96]\n",
      "[201, 216, 231]\n",
      "[318, 342, 366]\n"
     ]
    }
   ],
   "source": [
    "# 2.\tWrite a Python Program to Multiply Two Matrices?\n",
    "\n",
    "# define two matrices\n",
    "\n",
    "matrix1 = [[1, 2, 3], [4, 5, 6], [7, 8, 9]]\n",
    "matrix2 = [[10, 11, 12], [13, 14, 15], [16, 17, 18]]\n",
    "\n",
    "# create a result matrix filled with zeros\n",
    "\n",
    "result = [[0, 0, 0], [0, 0, 0], [0, 0, 0]]\n",
    "\n",
    "# iterate through each row of matrix1\n",
    "\n",
    "for i in range(len(matrix1)):\n",
    "   # iterate through each column of matrix2\n",
    "\n",
    "   for j in range(len(matrix2[0])):\n",
    "       # iterate through each element of the row of matrix2\n",
    "    \n",
    "       for k in range(len(matrix2)):\n",
    "           # multiply the corresponding elements and add to the result\n",
    "        \n",
    "           result[i][j] += matrix1[i][k] * matrix2[k][j]\n",
    "\n",
    "# print the result matrix\n",
    "for r in result:\n",
    "   print(r)\n",
    "\n"
   ]
  },
  {
   "cell_type": "code",
   "execution_count": 2,
   "id": "c10b5c6c",
   "metadata": {},
   "outputs": [
    {
     "name": "stdout",
     "output_type": "stream",
     "text": [
      "[1, 4, 7]\n",
      "[2, 5, 8]\n",
      "[3, 6, 9]\n"
     ]
    }
   ],
   "source": [
    "# 3.\tWrite a Python Program to Transpose a Matrix?\n",
    "\n",
    "# define a matrix\n",
    "matrix = [[1, 2, 3], [4, 5, 6], [7, 8, 9]]\n",
    "\n",
    "# create an empty matrix to store the transpose\n",
    "transpose = [[0, 0, 0], [0, 0, 0], [0, 0, 0]]\n",
    "\n",
    "# iterate through each row of the matrix\n",
    "for i in range(len(matrix)):\n",
    "   # iterate through each column of the matrix\n",
    "   for j in range(len(matrix[0])):\n",
    "       # interchange the rows and columns to get the transpose\n",
    "       transpose[j][i] = matrix[i][j]\n",
    "\n",
    "# print the transpose matrix\n",
    "for r in transpose:\n",
    "   print(r)\n",
    "\n",
    "\n"
   ]
  },
  {
   "cell_type": "code",
   "execution_count": 4,
   "id": "763d24c6",
   "metadata": {},
   "outputs": [
    {
     "name": "stdout",
     "output_type": "stream",
     "text": [
      "Enter a string of words: Ravi Kumar\n",
      "The words in alphabetical order are:\n",
      "Kumar\n",
      "Ravi\n"
     ]
    }
   ],
   "source": [
    "# 4.\tWrite a Python Program to Sort Words in Alphabetic Order?\n",
    "\n",
    "# get a string of words from the user\n",
    "words = input(\"Enter a string of words: \")\n",
    "\n",
    "# split the words into a list\n",
    "words_list = words.split()\n",
    "\n",
    "# sort the words in alphabetical order\n",
    "words_list.sort()\n",
    "\n",
    "# print the sorted words\n",
    "print(\"The words in alphabetical order are:\")\n",
    "for word in words_list:\n",
    "    print(word)\n",
    "\n",
    "\n"
   ]
  },
  {
   "cell_type": "code",
   "execution_count": 5,
   "id": "90d87755",
   "metadata": {},
   "outputs": [
    {
     "name": "stdout",
     "output_type": "stream",
     "text": [
      "Enter a string: Hey! Folks, This is Ravi..\n",
      "String without punctuation:  Hey Folks This is Ravi\n"
     ]
    }
   ],
   "source": [
    "# 5.\tWrite a Python Program to Remove Punctuation From a String?\n",
    "\n",
    "import string\n",
    "\n",
    "# get the input string from the user\n",
    "input_string = input(\"Enter a string: \")\n",
    "\n",
    "# define a string of punctuation characters\n",
    "punctuations = string.punctuation\n",
    "\n",
    "# create a new string without punctuation\n",
    "no_punctuations = \"\"\n",
    "for char in input_string:\n",
    "    if char not in punctuations:\n",
    "        no_punctuations += char\n",
    "\n",
    "# print the string without punctuation\n",
    "print(\"String without punctuation: \", no_punctuations)\n",
    "\n",
    "\n"
   ]
  },
  {
   "cell_type": "markdown",
   "id": "722c713c",
   "metadata": {},
   "source": [
    "# End"
   ]
  },
  {
   "cell_type": "code",
   "execution_count": null,
   "id": "5489e4e6",
   "metadata": {},
   "outputs": [],
   "source": []
  }
 ],
 "metadata": {
  "kernelspec": {
   "display_name": "Python 3 (ipykernel)",
   "language": "python",
   "name": "python3"
  },
  "language_info": {
   "codemirror_mode": {
    "name": "ipython",
    "version": 3
   },
   "file_extension": ".py",
   "mimetype": "text/x-python",
   "name": "python",
   "nbconvert_exporter": "python",
   "pygments_lexer": "ipython3",
   "version": "3.9.7"
  }
 },
 "nbformat": 4,
 "nbformat_minor": 5
}
