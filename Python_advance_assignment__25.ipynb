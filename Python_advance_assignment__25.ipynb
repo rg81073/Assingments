{
  "nbformat": 4,
  "nbformat_minor": 0,
  "metadata": {
    "colab": {
      "provenance": []
    },
    "kernelspec": {
      "name": "python3",
      "display_name": "Python 3"
    },
    "language_info": {
      "name": "python"
    }
  },
  "cells": [
    {
      "cell_type": "markdown",
      "source": [
        "### Q1. What is the distinction between a numpy array and a pandas data frame? Is there a way to convert between the two if there is? \n",
        "\n",
        "Numpy array and Pandas data frame are two different data structures used for data manipulation and analysis. \n",
        "\n",
        "Numpy array is a homogeneous n-dimensional array, which means that all elements in the array must be of the same data type. Numpy arrays are useful for numerical and scientific computations, where fast and efficient processing is required. Numpy arrays are created using the numpy module in Python.\n",
        "\n",
        "Pandas data frame is a two-dimensional labeled data structure with columns of potentially different data types. Pandas data frame provides more functionality for data analysis, such as indexing, merging, and grouping of data. Pandas data frames can be created using the pandas module in Python.\n",
        "\n",
        "We can convert a numpy array to a pandas data frame and vice versa. \n",
        "\n",
        "To convert a numpy array to a pandas data frame, we can use the `DataFrame()` constructor of the pandas module. Here's an example:\n",
        "\n",
        "```python\n",
        "import numpy as np\n",
        "import pandas as pd\n",
        "\n",
        "# create a numpy array\n",
        "arr = np.array([[1, 2, 3], [4, 5, 6], [7, 8, 9]])\n",
        "\n",
        "# convert numpy array to pandas data frame\n",
        "df = pd.DataFrame(arr, columns=['A', 'B', 'C'])\n",
        "\n",
        "print(df)\n",
        "```\n",
        "\n",
        "Output:\n",
        "```\n",
        "   A  B  C\n",
        "0  1  2  3\n",
        "1  4  5  6\n",
        "2  7  8  9\n",
        "```\n",
        "\n",
        "To convert a pandas data frame to a numpy array, we can use the `values` attribute of the pandas data frame. Here's an example:\n",
        "\n",
        "```python\n",
        "import numpy as np\n",
        "import pandas as pd\n",
        "\n",
        "# create a pandas data frame\n",
        "df = pd.DataFrame({'A': [1, 2, 3], 'B': [4, 5, 6], 'C': [7, 8, 9]})\n",
        "\n",
        "# convert pandas data frame to numpy array\n",
        "arr = df.values\n",
        "\n",
        "print(arr)\n",
        "```\n",
        "\n",
        "Output:\n",
        "```\n",
        "[[1 4 7]\n",
        " [2 5 8]\n",
        " [3 6 9]]\n",
        "```"
      ],
      "metadata": {
        "id": "j3Eyj25i78h5"
      }
    },
    {
      "cell_type": "markdown",
      "source": [
        "### Q2. What can go wrong when an user enters in a stock-ticker symbol, and how do you handle it? \n",
        "\n",
        "When a user enters a stock-ticker symbol, several things can go wrong, including:\n",
        "\n",
        "1. Entering an incorrect or invalid symbol that is not traded in the market.\n",
        "2. Entering a symbol that is traded in a different market or exchange.\n",
        "3. Entering a symbol that has been delisted or no longer traded.\n",
        "\n",
        "To handle these situations, we can use various methods:\n",
        "\n",
        "1. Use a try-except block to catch any exceptions that may occur when querying the stock data. For example:\n",
        "\n",
        "```python\n",
        "import yfinance as yf\n",
        "\n",
        "try:\n",
        "    stock = yf.Ticker('AAPL')\n",
        "    stock_info = stock.info\n",
        "except:\n",
        "    print('Invalid or unsupported stock ticker symbol')\n",
        "```\n",
        "\n",
        "2. We can use a stock data validation library like `pytickersymbols` to verify the stock symbol before querying data. For example:\n",
        "\n",
        "```python\n",
        "from pytickersymbols import PyTickerSymbols\n",
        "\n",
        "# get a list of supported stock symbols\n",
        "all_symbols = PyTickerSymbols()\n",
        "\n",
        "# check if a symbol exists in the list of supported symbols\n",
        "if 'AAPL' in all_symbols.get_all_tickers():\n",
        "    stock = yf.Ticker('AAPL')\n",
        "    stock_info = stock.info\n",
        "else:\n",
        "    print('Invalid or unsupported stock ticker symbol')\n",
        "```\n",
        "\n",
        "3. We can prompt the user to enter a valid stock symbol and provide suggestions or autocomplete options using a library like `pyautoGUI`. For example:\n",
        "\n",
        "```python\n",
        "import pyautogui as gui\n",
        "\n",
        "# prompt the user to enter a stock symbol\n",
        "symbol = gui.prompt('Enter a stock ticker symbol')\n",
        "\n",
        "# get a list of supported stock symbols\n",
        "all_symbols = PyTickerSymbols()\n",
        "\n",
        "# check if the entered symbol exists in the list of supported symbols\n",
        "if symbol.upper() in all_symbols.get_all_tickers():\n",
        "    stock = yf.Ticker(symbol.upper())\n",
        "    stock_info = stock.info\n",
        "else:\n",
        "    suggestions = all_symbols.search_by_ticker(symbol)\n",
        "    if len(suggestions) > 0:\n",
        "        suggestion_str = '\\n'.join(suggestions)\n",
        "        gui.alert(f\"Invalid or unsupported stock ticker symbol '{symbol}'. Suggestions:\\n{suggestion_str}\")\n",
        "    else:\n",
        "        gui.alert(f\"Invalid or unsupported stock ticker symbol '{symbol}'\")\n",
        "```"
      ],
      "metadata": {
        "id": "n288tgJ-78ex"
      }
    },
    {
      "cell_type": "markdown",
      "source": [
        "### Q3. Identify some of the plotting techniques that are used to produce a stock-market chart. \n",
        "\n",
        "Some of the plotting techniques that are used to produce a stock-market chart are:\n",
        "\n",
        "1. Line chart: It shows the trend of the stock price over time.\n",
        "\n",
        "2. Candlestick chart: It displays the opening, closing, highest, and lowest stock prices for each day. \n",
        "\n",
        "3. Area chart: It shows the trend of the stock price over time, with the area below the line filled with a color.\n",
        "\n",
        "4. Bar chart: It displays the opening and closing prices of the stock for each day.\n",
        "\n",
        "5. Scatter plot: It plots the data points as individual dots, where each dot represents a stock price for a particular day.\n",
        "\n",
        "Here's an example of a candlestick chart using the `mplfinance` library:\n",
        "\n",
        "```python\n",
        "import pandas as pd\n",
        "import mplfinance as mpf\n",
        "\n",
        "# Load data\n",
        "df = pd.read_csv('stock_prices.csv', index_col=0, parse_dates=True)\n",
        "\n",
        "# Plot candlestick chart\n",
        "mpf.plot(df, type='candle', volume=True, title='Stock Prices', ylabel='Price')\n",
        "```\n",
        "\n",
        "This code loads a CSV file containing stock prices and uses the `mpf.plot()` function to create a candlestick chart with volume bars."
      ],
      "metadata": {
        "id": "94x2GsgP78bb"
      }
    },
    {
      "cell_type": "markdown",
      "source": [
        "### Q4. Why is it essential to print a legend on a stock market chart? \n",
        "\n",
        "It is essential to print a legend on a stock market chart because it provides an explanation of the various elements in the chart. A legend helps the viewer understand the significance of the lines, bars, or other markings on the chart. It helps identify the various elements in the chart, such as different stocks, indices, or time periods, and provides context to the viewer. Without a legend, the chart may be confusing and difficult to interpret.\n",
        "\n",
        "In Python, legends can be added to stock market charts using the legend function from the matplotlib library. Here's an example:"
      ],
      "metadata": {
        "id": "1fgsma0h78YM"
      }
    },
    {
      "cell_type": "code",
      "source": [
        "import matplotlib.pyplot as plt\n",
        "\n",
        "# generate some data for demonstration purposes\n",
        "x = [1, 2, 3, 4, 5]\n",
        "y1 = [10, 15, 13, 17, 20]\n",
        "y2 = [8, 12, 10, 11, 14]\n",
        "\n",
        "# plot the data and add a legend\n",
        "plt.plot(x, y1, label='Stock A')\n",
        "plt.plot(x, y2, label='Stock B')\n",
        "plt.legend()\n",
        "\n",
        "# show the plot\n",
        "plt.show()\n"
      ],
      "metadata": {
        "colab": {
          "base_uri": "https://localhost:8080/",
          "height": 430
        },
        "id": "_K5_3qM79ML1",
        "outputId": "94a91d09-410a-423f-89a3-08a8b04790f7"
      },
      "execution_count": 1,
      "outputs": [
        {
          "output_type": "display_data",
          "data": {
            "text/plain": [
              "<Figure size 640x480 with 1 Axes>"
            ],
            "image/png": "[encoded data removed]"
          },
          "metadata": {}
        }
      ]
    },
    {
      "cell_type": "markdown",
      "source": [
        "In this example, we plot two lines representing the performance of two stocks, Stock A and Stock B, over time. We use the label parameter to assign a label to each line, and then call the legend function to add the legend to the chart. The resulting plot will have a legend that identifies the two lines and helps the viewer understand the chart."
      ],
      "metadata": {
        "id": "SxQWUtUV9RB-"
      }
    },
    {
      "cell_type": "markdown",
      "source": [
        "### Q5. What is the best way to limit the length of a pandas data frame to less than a year? \n",
        "\n",
        "To limit the length of a pandas data frame to less than a year, we can use boolean indexing to select only the rows that fall within a certain time range. Here's an example:\n",
        "\n",
        "```python\n",
        "import pandas as pd\n",
        "from datetime import datetime, timedelta\n",
        "\n",
        "# create a sample data frame with dates spanning two years\n",
        "df = pd.DataFrame({\n",
        "    'date': pd.date_range('2020-01-01', '2021-12-31'),\n",
        "    'value': range(730)\n",
        "})\n",
        "\n",
        "# set a start date and end date to limit the data frame\n",
        "start_date = datetime(2021, 1, 1)\n",
        "end_date = start_date + timedelta(days=365)\n",
        "\n",
        "# use boolean indexing to select only the rows within the date range\n",
        "limited_df = df[(df['date'] >= start_date) & (df['date'] < end_date)]\n",
        "\n",
        "# print the limited data frame\n",
        "print(limited_df)\n",
        "```\n",
        "\n",
        "In this example, we create a sample data frame with dates spanning two years. We then set a start date and end date to limit the data frame to a one-year range. We use boolean indexing to select only the rows within the date range and create a new data frame called `limited_df`. Finally, we print the limited data frame.\n"
      ],
      "metadata": {
        "id": "T-Jhky2U78VE"
      }
    },
    {
      "cell_type": "markdown",
      "source": [
        "### Q6. What is the definition of a 180-day moving average? \n",
        "\n",
        "A 180-day moving average is a technical analysis indicator that shows the average price of a security over the past 180 days. It is calculated by taking the sum of the security's closing prices over the last 180 trading days and dividing that by 180. The moving average \"moves\" each day, as the oldest price is dropped off and the newest price is added. It is a commonly used indicator to help smooth out short-term price fluctuations and to identify the direction of the trend over a longer period of time. \n",
        "\n",
        "Here's an example code snippet that calculates the 180-day moving average of a pandas DataFrame `df` containing the closing prices of a stock:\n",
        "\n",
        "```python\n",
        "import pandas as pd\n",
        "\n",
        "# Assuming `df` has a column named `close` containing closing prices\n",
        "ma_180 = df['close'].rolling(window=180).mean()\n",
        "```\n",
        "\n",
        "The `rolling()` method calculates a rolling window function, in this case a simple moving average, with a window size of 180. The `mean()` function calculates the mean value for each window. The resulting `ma_180` is a pandas Series with the same length as `df` containing the 180-day moving average values."
      ],
      "metadata": {
        "id": "5cGucspv78SE"
      }
    },
    {
      "cell_type": "markdown",
      "source": [
        "### Q7. Did the chapter&#39;s final example use &quot;indirect&quot; importing? If so, how exactly do you do it? \n",
        "\n",
        "No, the chapter's final example did not use \"indirect\" importing. \"Indirect\" importing refers to the process of importing a module indirectly through another module. It is also known as \"namespace\" or \"submodule\" importing. \n",
        "\n",
        "An example of indirect importing is when you have a module named `module_A` that imports another module named `module_B`, and you want to access a function or variable from `module_B` through `module_A`. This can be achieved by using the syntax `import module_A.module_B` or `from module_A import module_B`.\n",
        "\n",
        "Here's an example:\n",
        "\n",
        "```python\n",
        "# module_A.py\n",
        "from module_B import some_function\n",
        "\n",
        "def my_function():\n",
        "    result = some_function()\n",
        "    return result\n",
        "```\n",
        "\n",
        "```python\n",
        "# module_B.py\n",
        "def some_function():\n",
        "    return \"Hello, World!\"\n",
        "```\n",
        "\n",
        "In this example, `module_A` indirectly imports `some_function` from `module_B` and uses it in `my_function`."
      ],
      "metadata": {
        "id": "rBXqoDpY78F2"
      }
    }
  ]
}