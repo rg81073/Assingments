{
 "cells": [
  {
   "cell_type": "code",
   "execution_count": null,
   "id": "40de45de",
   "metadata": {},
   "outputs": [],
   "source": [
    "1.\tWrite a Python Program to Find LCM?\n",
    "2.\tWrite a Python Program to Find HCF?\n",
    "3.\tWrite a Python Program to Convert Decimal to Binary, Octal and Hexadecimal?\n",
    "4.\tWrite a Python Program To Find ASCII value of a character?\n",
    "5.\tWrite a Python Program to Make a Simple Calculator with 4 basic mathematical operations?\n"
   ]
  },
  {
   "cell_type": "markdown",
   "id": "5535c13b",
   "metadata": {},
   "source": [
    "# Solutions"
   ]
  },
  {
   "cell_type": "code",
   "execution_count": 1,
   "id": "2516b01e",
   "metadata": {},
   "outputs": [
    {
     "name": "stdout",
     "output_type": "stream",
     "text": [
      "Enter the first positive integer: 6\n",
      "Enter the second positive integer: 4\n",
      "The LCM of 6 and 4 is 12\n"
     ]
    }
   ],
   "source": [
    "# 1.\tWrite a Python Program to Find LCM?\n",
    "\n",
    "def gcd(a, b):\n",
    "    # Calculting  GCD using Euclid's algorithm\n",
    "    if b == 0:\n",
    "        return a\n",
    "    else:\n",
    "        return gcd(b, a % b)\n",
    "\n",
    "def lcm(a, b):\n",
    "    # Calculting  LCM using GCD\n",
    "    return (a * b) // gcd(a, b)\n",
    "\n",
    "# enter input values from the user\n",
    "a = int(input(\"Enter the first positive integer: \"))\n",
    "b = int(input(\"Enter the second positive integer: \"))\n",
    "\n",
    "# alculating and print the LCM\n",
    "print(\"The LCM of {} and {} is {}\".format(a, b, lcm(a, b)))\n",
    "\n",
    "\n"
   ]
  },
  {
   "cell_type": "code",
   "execution_count": 1,
   "id": "2f73fb17",
   "metadata": {},
   "outputs": [
    {
     "name": "stdout",
     "output_type": "stream",
     "text": [
      "Enter the first positive integer: 45\n",
      "Enter the second positive integer: 78\n",
      "The HCF of 45 and 78 is 3\n"
     ]
    }
   ],
   "source": [
    "# 2.\tWrite a Python Program to Find HCF?\n",
    "\n",
    "def hcf(a, b):\n",
    "    # Compute HCF using Euclid's algorithm\n",
    "    if b == 0:\n",
    "        return a\n",
    "    else:\n",
    "        return hcf(b, a % b)\n",
    "\n",
    "# Get input values from the user\n",
    "a = int(input(\"Enter the first positive integer: \"))\n",
    "b = int(input(\"Enter the second positive integer: \"))\n",
    "\n",
    "# Compute and print the HCF\n",
    "print(\"The HCF of {} and {} is {}\".format(a, b, hcf(a, b)))\n",
    "\n",
    "\n"
   ]
  },
  {
   "cell_type": "code",
   "execution_count": 2,
   "id": "b9392996",
   "metadata": {},
   "outputs": [
    {
     "name": "stdout",
     "output_type": "stream",
     "text": [
      "Enter a decimal number: 45\n",
      "The decimal number 45 is equivalent to:\n",
      "Binary: 0b101101\n",
      "Octal: 0o55\n",
      "Hexadecimal: 0x2d\n"
     ]
    }
   ],
   "source": [
    "# 3.\tWrite a Python Program to Convert Decimal to Binary, Octal and Hexadecimal?\n",
    "\n",
    "dec = int(input(\"Enter a decimal number: \"))\n",
    "\n",
    "# convert decimal to binary, octal, and hexadecimal\n",
    "binary = bin(dec)\n",
    "octal = oct(dec)\n",
    "hexadecimal = hex(dec)\n",
    "\n",
    "# print the results\n",
    "print(\"The decimal number {} is equivalent to:\".format(dec))\n",
    "print(\"Binary: {}\".format(binary))\n",
    "print(\"Octal: {}\".format(octal))\n",
    "print(\"Hexadecimal: {}\".format(hexadecimal))\n"
   ]
  },
  {
   "cell_type": "code",
   "execution_count": 3,
   "id": "54774bbe",
   "metadata": {},
   "outputs": [
    {
     "name": "stdout",
     "output_type": "stream",
     "text": [
      "Enter a character: r\n",
      "The ASCII value of r is: 114\n"
     ]
    }
   ],
   "source": [
    "# 4.\tWrite a Python Program To Find ASCII value of a character?\n",
    "\n",
    "# prompt the user to enter a character\n",
    "char = input(\"Enter a character: \")\n",
    "\n",
    "# use the ord() function to get the ASCII value\n",
    "ascii_val = ord(char)\n",
    "\n",
    "# print the result\n",
    "print(\"The ASCII value of {} is: {}\".format(char, ascii_val))\n"
   ]
  },
  {
   "cell_type": "code",
   "execution_count": 4,
   "id": "fd3fc739",
   "metadata": {},
   "outputs": [
    {
     "name": "stdout",
     "output_type": "stream",
     "text": [
      "Enter the first number: 5\n",
      "Enter the second number: 8\n",
      "Select operation:\n",
      "1. Add\n",
      "2. Subtract\n",
      "3. Multiply\n",
      "4. Divide\n",
      "Enter choice (1/2/3/4): 1\n",
      "5.0 + 8.0 = 13.0\n"
     ]
    }
   ],
   "source": [
    "# 5.\tWrite a Python Program to Make a Simple Calculator with 4 basic mathematical operations? \n",
    "\n",
    "\n",
    "def add(x, y):\n",
    "    return x + y\n",
    "\n",
    "def subtract(x, y):\n",
    "    return x - y\n",
    "\n",
    "def multiply(x, y):\n",
    "    return x * y\n",
    "\n",
    "def divide(x, y):\n",
    "    return x / y\n",
    "\n",
    "# User to enter the first number\n",
    "\n",
    "num1 = float(input(\"Enter the first number: \"))\n",
    "\n",
    "# User to enter the second number\n",
    "\n",
    "num2 = float(input(\"Enter the second number: \"))\n",
    "\n",
    "# display the menu of mathematical operationss\n",
    "\n",
    "print(\"Select operation:\")\n",
    "print(\"1. Add\")\n",
    "print(\"2. Subtract\")\n",
    "print(\"3. Multiply\")\n",
    "print(\"4. Divide\")\n",
    "\n",
    "# prompt the user to select a mathematical operation\n",
    "\n",
    "choice = input(\"Enter choice (1/2/3/4): \")\n",
    "\n",
    "# perform the selected mathematical operation\n",
    "\n",
    "if choice == '1':\n",
    "    print(num1, \"+\", num2, \"=\", add(num1, num2))\n",
    "elif choice == '2':\n",
    "    print(num1, \"-\", num2, \"=\", subtract(num1, num2))\n",
    "elif choice == '3':\n",
    "    print(num1, \"*\", num2, \"=\", multiply(num1, num2))\n",
    "elif choice == '4':\n",
    "    print(num1, \"/\", num2, \"=\", divide(num1, num2))\n",
    "else:\n",
    "    print(\"Invalid input\")\n"
   ]
  },
  {
   "cell_type": "markdown",
   "id": "163b3e3a",
   "metadata": {},
   "source": [
    "# End"
   ]
  },
  {
   "cell_type": "code",
   "execution_count": null,
   "id": "98d667d3",
   "metadata": {},
   "outputs": [],
   "source": []
  },
  {
   "cell_type": "code",
   "execution_count": null,
   "id": "bcdade1d",
   "metadata": {},
   "outputs": [],
   "source": []
  }
 ],
 "metadata": {
  "kernelspec": {
   "display_name": "Python 3 (ipykernel)",
   "language": "python",
   "name": "python3"
  },
  "language_info": {
   "codemirror_mode": {
    "name": "ipython",
    "version": 3
   },
   "file_extension": ".py",
   "mimetype": "text/x-python",
   "name": "python",
   "nbconvert_exporter": "python",
   "pygments_lexer": "ipython3",
   "version": "3.9.7"
  }
 },
 "nbformat": 4,
 "nbformat_minor": 5
}
