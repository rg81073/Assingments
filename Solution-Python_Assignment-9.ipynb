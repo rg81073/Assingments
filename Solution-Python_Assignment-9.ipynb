{
 "cells": [
  {
   "cell_type": "code",
   "execution_count": null,
   "id": "9d609361",
   "metadata": {},
   "outputs": [],
   "source": [
    "1.\tWrite a Python program to check if the given number is a Disarium Number?\n",
    "2.\tWrite a Python program to print all disarium numbers between 1 to 100?\n",
    "3.\tWrite a Python program to check if the given number is Happy Number?\n",
    "4.\tWrite a Python program to print all happy numbers between 1 and 100?\n",
    "5.\tWrite a Python program to determine whether the given number is a Harshad Number?\n",
    "6.\tWrite a Python program to print all pronic numbers between 1 and 100?\n"
   ]
  },
  {
   "cell_type": "markdown",
   "id": "f92644e0",
   "metadata": {},
   "source": [
    "# Solutions"
   ]
  },
  {
   "cell_type": "code",
   "execution_count": 3,
   "id": "4599f23d",
   "metadata": {},
   "outputs": [
    {
     "name": "stdout",
     "output_type": "stream",
     "text": [
      "Enter a number: 566\n",
      "566 is not a Disarium number\n"
     ]
    }
   ],
   "source": [
    "# Write a Python program to check if the given number is a Disarium Number?\n",
    "\n",
    "def is_disarium(number):\n",
    "    # count the number of digits in the given number\n",
    "    num_digits = len(str(number))\n",
    "    \n",
    "    # calculate the sum of digits raised to their respective positions\n",
    "    sum_digits = sum(int(digit) ** (i+1) for i, digit in enumerate(str(number)))\n",
    "    \n",
    "    # check if the sum of digits is equal to the given number\n",
    "    if sum_digits == number:\n",
    "        return True\n",
    "    else:\n",
    "        return False\n",
    "\n",
    "# get the input number from the user\n",
    "\n",
    "number = int(input(\"Enter a number: \"))\n",
    "\n",
    "# check if the number is a Disarium number\n",
    "if is_disarium(number):\n",
    "    print(number, \"is a Disarium number\")\n",
    "else:\n",
    "    print(number, \"is not a Disarium number\")\n"
   ]
  },
  {
   "cell_type": "code",
   "execution_count": 4,
   "id": "f663d0b1",
   "metadata": {},
   "outputs": [
    {
     "name": "stdout",
     "output_type": "stream",
     "text": [
      "Enter a number: 135\n",
      "135 is a Disarium number\n"
     ]
    }
   ],
   "source": [
    "def is_disarium(number):\n",
    "    # count the number of digits in the given number\n",
    "    num_digits = len(str(number))\n",
    "    \n",
    "    # calculate the sum of digits raised to their respective positions\n",
    "    sum_digits = sum(int(digit) ** (i+1) for i, digit in enumerate(str(number)))\n",
    "    \n",
    "    # check if the sum of digits is equal to the given number\n",
    "    if sum_digits == number:\n",
    "        return True\n",
    "    else:\n",
    "        return False\n",
    "\n",
    "# get the input number from the user\n",
    "number = int(input(\"Enter a number: \"))\n",
    "\n",
    "# check if the number is a Disarium number\n",
    "if is_disarium(number):\n",
    "    print(number, \"is a Disarium number\")\n",
    "else:\n",
    "    print(number, \"is not a Disarium number\")\n"
   ]
  },
  {
   "cell_type": "code",
   "execution_count": 5,
   "id": "7a766e8a",
   "metadata": {},
   "outputs": [
    {
     "name": "stdout",
     "output_type": "stream",
     "text": [
      "1\n",
      "2\n",
      "3\n",
      "4\n",
      "5\n",
      "6\n",
      "7\n",
      "8\n",
      "9\n",
      "89\n"
     ]
    }
   ],
   "source": [
    "# Write a Python program to print all disarium numbers between 1 to 100?\n",
    "\n",
    "def is_disarium(num):\n",
    "    # Convert the number to a string\n",
    "    num_str = str(num)\n",
    "\n",
    "    # Calculatinng the sum of digits raised to their positions\n",
    "    \n",
    "    sum_of_digits = sum(int(num_str[i])**(i+1) for i in range(len(num_str)))\n",
    "\n",
    "    # Check if the sum is equal to the number\n",
    "    \n",
    "    if sum_of_digits == num:\n",
    "        return True\n",
    "    else:\n",
    "        return False\n",
    "\n",
    "# Print Disarium numbers between 1 and 100\n",
    "\n",
    "for i in range(1, 101):\n",
    "    if is_disarium(i):\n",
    "        print(i)\n"
   ]
  },
  {
   "cell_type": "code",
   "execution_count": 7,
   "id": "6fcdf25f",
   "metadata": {},
   "outputs": [],
   "source": [
    "# Write a Python program to check if the given number is Happy Number?\n",
    "\n",
    "def is_happy_number(num):\n",
    "    def sum_of_squares_of_digits(n):\n",
    "        return sum(int(digit)**2 for digit in str(n))\n",
    "    \n",
    "    # create an empty set to store visited numbers\n",
    "    visited = set()\n",
    "    \n",
    "    # loop until the number becomes 1 or the loop is detected\n",
    "    while num != 1:\n",
    "        num = sum_of_squares_of_digits(num)\n",
    "        if num in visited:\n",
    "            return False\n",
    "        visited.add(num)\n",
    "        \n",
    "    return True\n"
   ]
  },
  {
   "cell_type": "code",
   "execution_count": 8,
   "id": "642b51ad",
   "metadata": {},
   "outputs": [
    {
     "name": "stdout",
     "output_type": "stream",
     "text": [
      "Enter a number to check if it is a happy number: 455\n",
      "455 is not a happy number\n"
     ]
    }
   ],
   "source": [
    "num = int(input(\"Enter a number to check if it is a happy number: \"))\n",
    "\n",
    "if is_happy_number(num):\n",
    "    print(num, \"is a happy number\")\n",
    "else:\n",
    "    print(num, \"is not a happy number\")\n"
   ]
  },
  {
   "cell_type": "code",
   "execution_count": 9,
   "id": "1bbdc35d",
   "metadata": {},
   "outputs": [
    {
     "name": "stdout",
     "output_type": "stream",
     "text": [
      "Enter a number to check if it is a happy number: 130\n",
      "130 is a happy number\n"
     ]
    }
   ],
   "source": [
    "num = int(input(\"Enter a number to check if it is a happy number: \"))\n",
    "\n",
    "if is_happy_number(num):\n",
    "    print(num, \"is a happy number\")\n",
    "else:\n",
    "    print(num, \"is not a happy number\")\n"
   ]
  },
  {
   "cell_type": "code",
   "execution_count": 10,
   "id": "36179c5f",
   "metadata": {},
   "outputs": [
    {
     "name": "stdout",
     "output_type": "stream",
     "text": [
      "1\n",
      "7\n",
      "10\n",
      "13\n",
      "19\n",
      "23\n",
      "28\n",
      "31\n",
      "32\n",
      "44\n",
      "49\n",
      "68\n",
      "70\n",
      "79\n",
      "82\n",
      "86\n",
      "91\n",
      "94\n",
      "97\n",
      "100\n"
     ]
    }
   ],
   "source": [
    "# Write a Python program to print all happy numbers between 1 and 100?\n",
    "\n",
    "def is_happy_number(n):\n",
    "    ''' Function to check if a number is a happy number or not '''\n",
    "    if n == 1:\n",
    "        return True\n",
    "    elif n == 4:\n",
    "        return False\n",
    "    else:\n",
    "        # Calculating the sum of squares of digits recursively\n",
    "        \n",
    "        sum_of_squares = 0\n",
    "        while n > 0:\n",
    "            digit = n % 10\n",
    "            sum_of_squares += digit ** 2\n",
    "            n //= 10\n",
    "        return is_happy_number(sum_of_squares)\n",
    "\n",
    "# Printing all happy numbers in  1 to100\n",
    "\n",
    "for i in range(1, 101):\n",
    "    if is_happy_number(i):\n",
    "        print(i)\n"
   ]
  },
  {
   "cell_type": "code",
   "execution_count": 11,
   "id": "eb3589e1",
   "metadata": {},
   "outputs": [
    {
     "name": "stdout",
     "output_type": "stream",
     "text": [
      "Enter a number: 344\n",
      "344 is not a Harshad Number\n"
     ]
    }
   ],
   "source": [
    "# Write a Python program to determine whether the given number is a Harshad Number?\n",
    "\n",
    "num = int(input(\"Enter a number: \"))\n",
    "sum_of_digits = sum([int(digit) for digit in str(num)])\n",
    "if num % sum_of_digits == 0:\n",
    "    print(num, \"is a Harshad Number\")\n",
    "else:\n",
    "    print(num, \"is not a Harshad Number\")\n"
   ]
  },
  {
   "cell_type": "code",
   "execution_count": 12,
   "id": "afdefb9c",
   "metadata": {},
   "outputs": [
    {
     "name": "stdout",
     "output_type": "stream",
     "text": [
      "Enter a number: 153\n",
      "153 is a Harshad Number\n"
     ]
    }
   ],
   "source": [
    "num = int(input(\"Enter a number: \"))\n",
    "sum_of_digits = sum([int(digit) for digit in str(num)])\n",
    "if num % sum_of_digits == 0:\n",
    "    print(num, \"is a Harshad Number\")\n",
    "else:\n",
    "    print(num, \"is not a Harshad Number\")\n"
   ]
  },
  {
   "cell_type": "code",
   "execution_count": 13,
   "id": "1be89001",
   "metadata": {},
   "outputs": [
    {
     "name": "stdout",
     "output_type": "stream",
     "text": [
      "2\n",
      "6\n",
      "12\n",
      "20\n",
      "30\n",
      "42\n",
      "56\n",
      "72\n",
      "90\n"
     ]
    }
   ],
   "source": [
    "# Write a Python program to print all pronic numbers between 1 and 100?\n",
    "\n",
    "for i in range(1, 101):\n",
    "    for j in range(1, i):\n",
    "        if i == j * (j + 1):\n",
    "            print(i)\n",
    "            break\n"
   ]
  },
  {
   "cell_type": "markdown",
   "id": "5404a080",
   "metadata": {},
   "source": [
    "# End"
   ]
  }
 ],
 "metadata": {
  "kernelspec": {
   "display_name": "Python 3 (ipykernel)",
   "language": "python",
   "name": "python3"
  },
  "language_info": {
   "codemirror_mode": {
    "name": "ipython",
    "version": 3
   },
   "file_extension": ".py",
   "mimetype": "text/x-python",
   "name": "python",
   "nbconvert_exporter": "python",
   "pygments_lexer": "ipython3",
   "version": "3.9.7"
  }
 },
 "nbformat": 4,
 "nbformat_minor": 5
}
