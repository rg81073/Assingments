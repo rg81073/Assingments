{
 "cells": [
  {
   "cell_type": "code",
   "execution_count": null,
   "id": "a7654626",
   "metadata": {},
   "outputs": [],
   "source": [
    "1.\tWrite a Python Program to Find the Factorial of a Number?\n",
    "2.\tWrite a Python Program to Display the multiplication Table?\n",
    "3.\tWrite a Python Program to Print the Fibonacci sequence?\n",
    "4.\tWrite a Python Program to Check Armstrong Number?\n",
    "5.\tWrite a Python Program to Find Armstrong Number in an Interval?\n",
    "6.\tWrite a Python Program to Find the Sum of Natural Numbers?\n"
   ]
  },
  {
   "cell_type": "markdown",
   "id": "a731aea1",
   "metadata": {},
   "source": [
    "# Solutions"
   ]
  },
  {
   "cell_type": "code",
   "execution_count": 1,
   "id": "2f1526eb",
   "metadata": {},
   "outputs": [
    {
     "name": "stdout",
     "output_type": "stream",
     "text": [
      "Enter a number: 8\n",
      "Factorial of 8 is 40320\n"
     ]
    }
   ],
   "source": [
    "# 1.\tWrite a Python Program to Find the Factorial of a Number?\n",
    "\n",
    "num = int(input(\"Enter a number: \"))\n",
    "\n",
    "factorial = 1\n",
    "\n",
    "if num < 0:\n",
    "    print(\"Factorial cannot be computed for negative numbers.\")\n",
    "elif num == 0:\n",
    "    print(\"Factorial of 0 is 1.\")\n",
    "else:\n",
    "    for i in range(1, num+1):\n",
    "        factorial *= i\n",
    "    print(\"Factorial of\", num, \"is\", factorial)\n",
    "\n",
    "\n",
    "\n",
    "\n"
   ]
  },
  {
   "cell_type": "code",
   "execution_count": 3,
   "id": "49a45bce",
   "metadata": {},
   "outputs": [
    {
     "name": "stdout",
     "output_type": "stream",
     "text": [
      "Enter a number: 5\n",
      "Multiplication table of 5\n",
      "5 multiply by  1 = 5\n",
      "5 multiply by  2 = 10\n",
      "5 multiply by  3 = 15\n",
      "5 multiply by  4 = 20\n",
      "5 multiply by  5 = 25\n",
      "5 multiply by  6 = 30\n",
      "5 multiply by  7 = 35\n",
      "5 multiply by  8 = 40\n",
      "5 multiply by  9 = 45\n",
      "5 multiply by  10 = 50\n"
     ]
    }
   ],
   "source": [
    "# 2.\tWrite a Python Program to Display the multiplication Table?\n",
    "\n",
    "num = int(input(\"Enter a number: \"))\n",
    "\n",
    "print(\"Multiplication table of\", num)\n",
    "\n",
    "for i in range(1, 11):\n",
    "    print(num, \"multiply by \", i, \"=\", num*i)\n"
   ]
  },
  {
   "cell_type": "code",
   "execution_count": 4,
   "id": "1a11aaa6",
   "metadata": {},
   "outputs": [
    {
     "name": "stdout",
     "output_type": "stream",
     "text": [
      "How many terms? 5\n",
      "Fibonacci sequence:\n",
      "0\n",
      "1\n",
      "1\n",
      "2\n",
      "3\n"
     ]
    }
   ],
   "source": [
    "# 3.\tWrite a Python Program to Print the Fibonacci sequence?\n",
    "\n",
    "nterms = int(input(\"How many terms? \"))\n",
    "\n",
    "# first two terms\n",
    "n1, n2 = 0, 1\n",
    "count = 0\n",
    "\n",
    "# check if the number of terms is valid\n",
    "if nterms <= 0:\n",
    "   print(\"Please enter a positive integer\")\n",
    "elif nterms == 1:\n",
    "   print(\"Fibonacci sequence upto\", nterms, \":\", n1)\n",
    "else:\n",
    "   print(\"Fibonacci sequence:\")\n",
    "   while count < nterms:\n",
    "       print(n1)\n",
    "       nth = n1 + n2\n",
    "       # update values\n",
    "       n1 = n2\n",
    "       n2 = nth\n",
    "       count += 1\n"
   ]
  },
  {
   "cell_type": "code",
   "execution_count": 5,
   "id": "7907ad7c",
   "metadata": {},
   "outputs": [
    {
     "name": "stdout",
     "output_type": "stream",
     "text": [
      "Enter a number342\n",
      "342 is not an Armstrong number\n"
     ]
    }
   ],
   "source": [
    "# 4.\tWrite a Python Program to Check Armstrong Number?\n",
    "\n",
    "num = int(input(\"Enter a number\"))\n",
    "\n",
    "# initializing  sum\n",
    "\n",
    "sum = 0\n",
    "\n",
    "# finding sum of the cube of each digit\n",
    "\n",
    "temp = num\n",
    "while temp > 0:\n",
    "    digit = temp % 10\n",
    "    sum += digit ** 3\n",
    "    temp //= 10\n",
    "\n",
    "\n",
    "if num == sum:\n",
    "    print(num, \"is an Armstrong number\")\n",
    "else:\n",
    "    print(num, \"is not an Armstrong number\")\n"
   ]
  },
  {
   "cell_type": "code",
   "execution_count": 6,
   "id": "ce72b7d0",
   "metadata": {},
   "outputs": [
    {
     "name": "stdout",
     "output_type": "stream",
     "text": [
      "Enter a number371\n",
      "371 is an Armstrong number\n"
     ]
    }
   ],
   "source": [
    "num = int(input(\"Enter a number\"))\n",
    "\n",
    "# initializing  sum\n",
    "\n",
    "sum = 0\n",
    "\n",
    "# finding sum of the cube of each digit\n",
    "\n",
    "temp = num\n",
    "while temp > 0:\n",
    "    digit = temp % 10\n",
    "    sum += digit ** 3\n",
    "    temp //= 10\n",
    "\n",
    "\n",
    "if num == sum:\n",
    "    print(num, \"is an Armstrong number\")\n",
    "else:\n",
    "    print(num, \"is not an Armstrong number\")\n",
    "\n"
   ]
  },
  {
   "cell_type": "code",
   "execution_count": 9,
   "id": "07ca859f",
   "metadata": {},
   "outputs": [
    {
     "name": "stdout",
     "output_type": "stream",
     "text": [
      "Enter lower bound: 350\n",
      "Enter upper bound: 400\n",
      "Armstrong numbers in the interval [350, 400]: \n",
      "370\n",
      "371\n"
     ]
    }
   ],
   "source": [
    "# 5.\tWrite a Python Program to Find Armstrong Number in an Interval?\n",
    "\n",
    "lower = int(input(\"Enter lower bound: \"))\n",
    "upper = int(input(\"Enter upper bound: \"))\n",
    "\n",
    "print(\"Armstrong numbers in the interval [{}, {}]: \".format(lower, upper))\n",
    "\n",
    "for num in range(lower, upper+1):\n",
    "    order = len(str(num))\n",
    "    sum = 0\n",
    "    temp = num\n",
    "    \n",
    "    while temp > 0:\n",
    "        digit = temp % 10\n",
    "        sum += digit ** order\n",
    "        temp //= 10\n",
    "    \n",
    "    if num == sum:\n",
    "        print(num)\n",
    "\n"
   ]
  },
  {
   "cell_type": "code",
   "execution_count": 10,
   "id": "f97ab886",
   "metadata": {},
   "outputs": [
    {
     "name": "stdout",
     "output_type": "stream",
     "text": [
      "Enter a positive integer: 50\n",
      "The sum of the first 50 natural numbers is 1275\n"
     ]
    }
   ],
   "source": [
    "# 6.\tWrite a Python Program to Find the Sum of Natural Numbers?\n",
    "\n",
    "n = int(input(\"Enter a positive integer: \"))\n",
    "\n",
    "# Initializing sum to 0\n",
    "sum = 0\n",
    "\n",
    "# Calculating  sum of natural numbers from 1 to n\n",
    "\n",
    "for i in range(1, n+1):\n",
    "    sum += i\n",
    "\n",
    "\n",
    "print(\"The sum of the first {} natural numbers is {}\".format(n, sum))\n"
   ]
  },
  {
   "cell_type": "markdown",
   "id": "6c90bca4",
   "metadata": {},
   "source": [
    "# End"
   ]
  },
  {
   "cell_type": "code",
   "execution_count": null,
   "id": "c5a06cb6",
   "metadata": {},
   "outputs": [],
   "source": []
  },
  {
   "cell_type": "code",
   "execution_count": null,
   "id": "08d508b9",
   "metadata": {},
   "outputs": [],
   "source": []
  },
  {
   "cell_type": "code",
   "execution_count": null,
   "id": "f8fc8619",
   "metadata": {},
   "outputs": [],
   "source": []
  },
  {
   "cell_type": "code",
   "execution_count": null,
   "id": "6b03d1a4",
   "metadata": {},
   "outputs": [],
   "source": []
  },
  {
   "cell_type": "code",
   "execution_count": null,
   "id": "06b2f6a9",
   "metadata": {},
   "outputs": [],
   "source": []
  },
  {
   "cell_type": "code",
   "execution_count": null,
   "id": "d36eac5e",
   "metadata": {},
   "outputs": [],
   "source": []
  },
  {
   "cell_type": "code",
   "execution_count": null,
   "id": "413a92de",
   "metadata": {},
   "outputs": [],
   "source": []
  },
  {
   "cell_type": "code",
   "execution_count": null,
   "id": "9139768e",
   "metadata": {},
   "outputs": [],
   "source": []
  },
  {
   "cell_type": "code",
   "execution_count": null,
   "id": "9921e031",
   "metadata": {},
   "outputs": [],
   "source": []
  }
 ],
 "metadata": {
  "kernelspec": {
   "display_name": "Python 3 (ipykernel)",
   "language": "python",
   "name": "python3"
  },
  "language_info": {
   "codemirror_mode": {
    "name": "ipython",
    "version": 3
   },
   "file_extension": ".py",
   "mimetype": "text/x-python",
   "name": "python",
   "nbconvert_exporter": "python",
   "pygments_lexer": "ipython3",
   "version": "3.9.7"
  }
 },
 "nbformat": 4,
 "nbformat_minor": 5
}
