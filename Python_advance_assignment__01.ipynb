{
  "nbformat": 4,
  "nbformat_minor": 0,
  "metadata": {
    "colab": {
      "provenance": []
    },
    "kernelspec": {
      "name": "python3",
      "display_name": "Python 3"
    },
    "language_info": {
      "name": "python"
    }
  },
  "cells": [
    {
      "cell_type": "markdown",
      "source": [
        "### Q.1  What is the purpose of Python's OOP?\n",
        "\n",
        "The purpose of Python's Object-Oriented Programming (OOP) is to provide a way to structure code such that it is more modular, reusable, and maintainable. OOP is based on the concept of objects, which are instances of classes that encapsulate data and behavior. OOP allows developers to create complex software systems by breaking down the problem into smaller, more manageable pieces. By creating classes, developers can define reusable code that can be used to create multiple instances of the same object. OOP also supports concepts such as inheritance and polymorphism, which allow developers to reuse code and create more flexible and extensible systems."
      ],
      "metadata": {
        "id": "ed0kF2U6jAMC"
      }
    },
    {
      "cell_type": "markdown",
      "source": [
        "### Q.2 Where does an inheritance search look for an attribute?\n",
        "\n",
        "When an attribute is called on an object in Python, the interpreter first looks for the attribute in the object's class. If the attribute is not found in the class, the interpreter searches in the parent classes in the order specified by the method resolution order (MRO). This is known as the inheritance search order. If the attribute is still not found in the parent classes, the interpreter will continue the search in the parent's parent classes, and so on, until it reaches the top of the inheritance tree (i.e., the root object class). If the attribute is not found in any of the classes, a `AttributeError` is raised."
      ],
      "metadata": {
        "id": "MCxtw8ShjMOI"
      }
    },
    {
      "cell_type": "markdown",
      "source": [
        "### Q.3 How do you distinguish between a class object and an instance object?\n",
        "\n",
        "In Python, a class is a blueprint for creating objects, while an instance is an object that is created from a class. \n",
        "\n",
        "When a class is defined, it specifies the properties and behaviors that the instances created from that class will have. These properties and behaviors are defined as class attributes and methods. \n",
        "\n",
        "An instance, on the other hand, is an individual object that is created from a class. It has its own attributes and behaviors, which are distinct from other instances of the same class. \n",
        "\n",
        "In other words, a class is a template or a definition, while an instance is a specific example or occurrence of that class."
      ],
      "metadata": {
        "id": "jyyNWP2UjZ0i"
      }
    },
    {
      "cell_type": "markdown",
      "source": [
        "### Q.4 What makes the first argument in a class’s method function special?\n",
        "The first argument in a class's method function refers to the instance object that calls the method. By convention, it is named `self` in Python. This allows the method to access and modify the attributes of the specific instance that calls it. When a method is called using the dot notation, such as `instance.method()`, the instance is automatically passed as the first argument."
      ],
      "metadata": {
        "id": "X63uWJBfjwZp"
      }
    },
    {
      "cell_type": "markdown",
      "source": [
        "### Q5. What is the purpose of the __init__ method?\n",
        "The `__init__` method is a special method in Python classes that gets called automatically when an object of the class is created. It is used to initialize the attributes of an object with default or user-defined values. \n",
        "\n",
        "In other words, the `__init__` method is used to define the initial state of an object, which is determined by the values passed as arguments to the method when the object is created. It can take arguments like any other method in the class, but the first argument is always `self`, which represents the instance of the class that is being initialized. \n",
        "\n",
        "For example, let's say we have a class `Person` with attributes `name` and `age`. The `__init__` method would look like this:\n",
        "\n",
        "```python\n",
        "class Person:\n",
        "    def __init__(self, name, age):\n",
        "        self.name = name\n",
        "        self.age = age\n",
        "```\n",
        "\n",
        "Here, the `__init__` method takes two arguments, `name` and `age`, and initializes the `name` and `age` attributes of the object with the values passed as arguments. When an object of the `Person` class is created, the `__init__` method is called automatically and initializes the object's attributes."
      ],
      "metadata": {
        "id": "rKaDW05ij7tZ"
      }
    },
    {
      "cell_type": "markdown",
      "source": [
        "### Q6. What is the process for creating a class instance?\n",
        "To create a class instance in Python, you need to follow these steps:\n",
        "\n",
        "1. Define the class: First, define the class by giving it a name and defining its attributes and methods.\n",
        "\n",
        "2. Create an object: To create an object or instance of the class, you call the class as if it were a function, passing in any arguments that the `__init__` method requires.\n",
        "\n",
        "For example, let's say we have a `Car` class with the attributes `make`, `model`, and `year`, and the method `drive()`. Here's how we could create an instance of the `Car` class:\n",
        "\n",
        "```python\n",
        "class Car:\n",
        "    def __init__(self, make, model, year):\n",
        "        self.make = make\n",
        "        self.model = model\n",
        "        self.year = year\n",
        "    \n",
        "    def drive(self):\n",
        "        print(\"Driving...\")\n",
        "\n",
        "my_car = Car(\"Toyota\", \"Camry\", 2022)\n",
        "```\n",
        "\n",
        "In this example, we define the `Car` class with the `__init__` method that initializes the attributes `make`, `model`, and `year`. Then, we create an instance of the `Car` class called `my_car` by calling the `Car()` function and passing in the arguments `\"Toyota\"`, `\"Camry\"`, and `2022`. This creates a new instance of the `Car` class with the `make` attribute set to `\"Toyota\"`, the `model` attribute set to `\"Camry\"`, and the `year` attribute set to `2022`."
      ],
      "metadata": {
        "id": "2jqx0kRykN0p"
      }
    },
    {
      "cell_type": "markdown",
      "source": [
        "### Q7. What is the process for creating a class?\n",
        "To create a class in Python, you can use the `class` keyword followed by the name of the class and a colon. Here's an example:\n",
        "\n",
        "```python\n",
        "class MyClass:\n",
        "    # class definition goes here\n",
        "```\n",
        "\n",
        "Once the class is defined, you can create instances of the class by calling the class name like a function, with any arguments required by the `__init__` method (if defined). Here's an example:\n",
        "\n",
        "```python\n",
        "my_object = MyClass(arg1, arg2)\n",
        "```\n",
        "\n",
        "This will create a new instance of the `MyClass` class and assign it to the variable `my_object`."
      ],
      "metadata": {
        "id": "ftCJxbJ4kh7X"
      }
    },
    {
      "cell_type": "markdown",
      "source": [
        "### Q8. How would you define the superclasses of a class?\n",
        "In object-oriented programming, a superclass is a class from which other classes, called subclasses, can inherit properties and methods. The superclass is sometimes referred to as the parent class or base class. The subclasses inherit the properties and methods of the superclass and may also have their own properties and methods. \n",
        "\n",
        "In Python, a superclass is defined by passing the superclass name as an argument to the subclass definition. For example, if we want to create a class called `Square` that inherits from a class called `Rectangle`, we would define the `Square` class like this:\n",
        "\n",
        "```python\n",
        "class Rectangle:\n",
        "    def __init__(self, width, height):\n",
        "        self.width = width\n",
        "        self.height = height\n",
        "\n",
        "class Square(Rectangle):\n",
        "    def __init__(self, side):\n",
        "        super().__init__(side, side)\n",
        "```\n",
        "\n",
        "In this example, `Square` is a subclass of `Rectangle`, and `Rectangle` is the superclass of `Square`. The `Square` class inherits the `__init__` method from the `Rectangle` class, and uses the `super()` function to call the `__init__` method of the `Rectangle` class with the `side` argument passed twice."
      ],
      "metadata": {
        "id": "bPiYDwNZk1SA"
      }
    }
  ]
}