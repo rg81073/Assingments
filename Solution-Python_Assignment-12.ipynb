{
 "cells": [
  {
   "cell_type": "code",
   "execution_count": null,
   "id": "9ad98616",
   "metadata": {},
   "outputs": [],
   "source": [
    "1.\tWrite a Python program to Extract Unique values dictionary values?\n",
    "2.\tWrite a Python program to find the sum of all items in a dictionary?\n",
    "3.\tWrite a Python program to Merging two Dictionaries?\n",
    "4.\tWrite a Python program to convert key-values list to flat dictionary?\n",
    "5.\tWrite a Python program to insertion at the beginning in OrderedDict?\n",
    "6.\tWrite a Python program to check order of character in string using OrderedDict()?\n",
    "7.\tWrite a Python program to sort Python Dictionaries by Key or Value?\n"
   ]
  },
  {
   "cell_type": "markdown",
   "id": "00fe62dc",
   "metadata": {},
   "source": [
    "# Solutions"
   ]
  },
  {
   "cell_type": "code",
   "execution_count": 1,
   "id": "359264ef",
   "metadata": {},
   "outputs": [
    {
     "name": "stdout",
     "output_type": "stream",
     "text": [
      "Unique values: {1, 2, 3}\n"
     ]
    }
   ],
   "source": [
    "# 1.\tWrite a Python program to Extract Unique values dictionary values?\n",
    "\n",
    "my_dict = {'a': 1, 'b': 2, 'c': 1, 'd': 3, 'e': 2}\n",
    "\n",
    "unique_values = set(my_dict.values())\n",
    "\n",
    "print(\"Unique values:\", unique_values)\n",
    "\n"
   ]
  },
  {
   "cell_type": "code",
   "execution_count": 3,
   "id": "ddae6450",
   "metadata": {},
   "outputs": [
    {
     "name": "stdout",
     "output_type": "stream",
     "text": [
      "Sum of values in the dictionary is 600\n"
     ]
    }
   ],
   "source": [
    "\n",
    "# 2.\tWrite a Python program to find the sum of all items in a dictionary?\n",
    "\n",
    "my_dict = {'a': 100, 'b': 200, 'c': 300}\n",
    "sum_of_values = sum(my_dict.values())\n",
    "print(\"Sum of values in the dictionary is\", sum_of_values)\n",
    "\n"
   ]
  },
  {
   "cell_type": "code",
   "execution_count": 4,
   "id": "68a3defe",
   "metadata": {},
   "outputs": [
    {
     "name": "stdout",
     "output_type": "stream",
     "text": [
      "Merged dictionary: {'a': 10, 'b': 20, 'c': 30, 'd': 40}\n"
     ]
    }
   ],
   "source": [
    "\n",
    "# 3.\tWrite a Python program to Merging two Dictionaries?\n",
    "\n",
    "# initialize two dictionaries\n",
    "\n",
    "dict1 = {'a': 10, 'b': 20}\n",
    "dict2 = {'c': 30, 'd': 40}\n",
    "\n",
    "# merge the two dictionaries using the update() Functon\n",
    "\n",
    "dict1.update(dict2)\n",
    "\n",
    "# print the merged dictionary\n",
    "\n",
    "print(\"Merged dictionary:\", dict1)\n",
    "\n"
   ]
  },
  {
   "cell_type": "code",
   "execution_count": 5,
   "id": "852fa7ee",
   "metadata": {},
   "outputs": [
    {
     "name": "stdout",
     "output_type": "stream",
     "text": [
      "{'key1': 'value1', 'key2': 'value2', 'key3': 'value3'}\n"
     ]
    }
   ],
   "source": [
    "\n",
    "# 4.\tWrite a Python program to convert key-values list to flat dictionary?\n",
    "\n",
    "def list_to_dict(lst):\n",
    "    \"\"\"Converts key-values list to flat dictionary\"\"\"\n",
    "    flat_dict = {}\n",
    "    for item in lst:\n",
    "        flat_dict[item[0]] = item[1]\n",
    "    return flat_dict\n",
    "\n",
    "# example\n",
    "\n",
    "lst = [(\"key1\", \"value1\"), (\"key2\", \"value2\"), (\"key3\", \"value3\")]\n",
    "flat_dict = list_to_dict(lst)\n",
    "print(flat_dict)\n",
    "\n"
   ]
  },
  {
   "cell_type": "code",
   "execution_count": 6,
   "id": "5c2826a1",
   "metadata": {},
   "outputs": [
    {
     "name": "stdout",
     "output_type": "stream",
     "text": [
      "Original OrderedDict: OrderedDict([('apple', 3), ('banana', 2), ('cherry', 1)])\n",
      "OrderedDict after insertion: OrderedDict([('cherry', 1), ('apple', 3), ('banana', 2), ('orange', 4)])\n"
     ]
    }
   ],
   "source": [
    "\n",
    "# 5.\tWrite a Python program to insertion at the beginning in OrderedDict?\n",
    "\n",
    "from collections import OrderedDict\n",
    "\n",
    "# Create an ordered dictionary\n",
    "\n",
    "od = OrderedDict([('apple', 3), ('banana', 2), ('cherry', 1)])\n",
    "print(\"Original OrderedDict:\", od)\n",
    "\n",
    "# Insert a new key-value pair at the beginning\n",
    "\n",
    "\n",
    "od.move_to_end('cherry', last=False)\n",
    "od.update({'orange': 4})\n",
    "print(\"OrderedDict after insertion:\", od)\n",
    "\n"
   ]
  },
  {
   "cell_type": "code",
   "execution_count": 7,
   "id": "9c448628",
   "metadata": {},
   "outputs": [
    {
     "name": "stdout",
     "output_type": "stream",
     "text": [
      "False\n",
      "True\n"
     ]
    }
   ],
   "source": [
    "\n",
    "# 6.\tWrite a Python program to check order of character in string using OrderedDict()?\n",
    "\n",
    "from collections import OrderedDict\n",
    "\n",
    "def check_order_of_chars(string):\n",
    "    ordered_dict = OrderedDict.fromkeys(string)\n",
    "    ordered_string = ''.join(ordered_dict.keys())\n",
    "    return ordered_string == string\n",
    "\n",
    "# example\n",
    "\n",
    "print(check_order_of_chars('hello')) # True\n",
    "print(check_order_of_chars('python')) # False\n",
    "\n"
   ]
  },
  {
   "cell_type": "code",
   "execution_count": 8,
   "id": "5dfd464c",
   "metadata": {},
   "outputs": [
    {
     "name": "stdout",
     "output_type": "stream",
     "text": [
      "{'apple': 3, 'banana': 2, 'orange': 1}\n",
      "{'orange': 1, 'banana': 2, 'apple': 3}\n"
     ]
    }
   ],
   "source": [
    "\n",
    "# 7.\tWrite a Python program to sort Python Dictionaries by Key or Value?\n",
    "\n",
    "# dictionary to be sorted\n",
    "\n",
    "my_dict = {'apple': 3, 'banana': 2, 'orange': 1}\n",
    "\n",
    "# sort by key and print\n",
    "\n",
    "sorted_dict_by_key = dict(sorted(my_dict.items()))\n",
    "print(sorted_dict_by_key)\n",
    "\n",
    "# sort by value and print\n",
    "\n",
    "sorted_dict_by_value = dict(sorted(my_dict.items(), key=lambda item: item[1]))\n",
    "print(sorted_dict_by_value)\n"
   ]
  },
  {
   "cell_type": "markdown",
   "id": "e81863ab",
   "metadata": {},
   "source": [
    "# End"
   ]
  },
  {
   "cell_type": "code",
   "execution_count": null,
   "id": "0a4b7af2",
   "metadata": {},
   "outputs": [],
   "source": []
  }
 ],
 "metadata": {
  "kernelspec": {
   "display_name": "Python 3 (ipykernel)",
   "language": "python",
   "name": "python3"
  },
  "language_info": {
   "codemirror_mode": {
    "name": "ipython",
    "version": 3
   },
   "file_extension": ".py",
   "mimetype": "text/x-python",
   "name": "python",
   "nbconvert_exporter": "python",
   "pygments_lexer": "ipython3",
   "version": "3.9.7"
  }
 },
 "nbformat": 4,
 "nbformat_minor": 5
}
