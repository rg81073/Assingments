{
 "cells": [
  {
   "cell_type": "code",
   "execution_count": null,
   "id": "ae1a19b1",
   "metadata": {},
   "outputs": [],
   "source": [
    "1.\tWrite a Python program to find sum of elements in list?\n",
    "2.\tWrite a Python program to  Multiply all numbers in the list?\n",
    "3.\tWrite a Python program to find smallest number in a list?\n",
    "4.\tWrite a Python program to find largest number in a list?\n",
    "5.\tWrite a Python program to find second largest number in a list?\n",
    "6.\tWrite a Python program to find N largest elements from a list?\n",
    "7.\tWrite a Python program to print even numbers in a list?\n",
    "8.\tWrite a Python program to print odd numbers in a List?\n",
    "9.\tWrite a Python program to Remove empty List from List?\n",
    "10.\tWrite a Python program to Cloning or Copying a list?\n",
    "11.\tWrite a Python program to Count occurrences of an element in a list?\n"
   ]
  },
  {
   "cell_type": "markdown",
   "id": "1a8aa68b",
   "metadata": {},
   "source": [
    "# Solutions"
   ]
  },
  {
   "cell_type": "code",
   "execution_count": 1,
   "id": "90969dd7",
   "metadata": {},
   "outputs": [
    {
     "name": "stdout",
     "output_type": "stream",
     "text": [
      "The sum of elements in the list is: 15\n"
     ]
    }
   ],
   "source": [
    "# Write a Python program to find sum of elements in list?\n",
    "\n",
    "my_list = [1, 2, 3, 4, 5]\n",
    "sum_of_list = sum(my_list)\n",
    "print(\"The sum of elements in the list is:\", sum_of_list)\n"
   ]
  },
  {
   "cell_type": "code",
   "execution_count": 2,
   "id": "8c0d4d57",
   "metadata": {},
   "outputs": [
    {
     "name": "stdout",
     "output_type": "stream",
     "text": [
      "The product of [2, 3, 4, 5] is: 120\n"
     ]
    }
   ],
   "source": [
    "# Write a Python program to  Multiply all numbers in the list?\n",
    "\n",
    "def multiply(numbers):\n",
    "    result = 1\n",
    "    for num in numbers:\n",
    "        result *= num\n",
    "    return result\n",
    "\n",
    "numbers = [2, 3, 4, 5]\n",
    "product = multiply(numbers)\n",
    "print(f\"The product of {numbers} is: {product}\")\n"
   ]
  },
  {
   "cell_type": "code",
   "execution_count": 8,
   "id": "657f2b3c",
   "metadata": {},
   "outputs": [
    {
     "name": "stdout",
     "output_type": "stream",
     "text": [
      "The smallest number in the list is: 2\n"
     ]
    }
   ],
   "source": [
    "# Write a Python program to find smallest number in a list?\n",
    "\n",
    "def find_smallest(lst):\n",
    "    \n",
    "   # function above takes a list as input and returns the smallest number in the list\n",
    "\n",
    "    smallest = lst[0]  # Initializiing  the smallest variable with the first element of the list\n",
    "    for num in lst:\n",
    "        if num < smallest:\n",
    "            smallest = num\n",
    "    return smallest\n",
    "\n",
    "\n",
    "my_list = [12, 45, 2, 67, 34, 9]\n",
    "print(\"The smallest number in the list is:\", find_smallest(my_list))\n"
   ]
  },
  {
   "cell_type": "code",
   "execution_count": 10,
   "id": "b41f1f5f",
   "metadata": {},
   "outputs": [
    {
     "name": "stdout",
     "output_type": "stream",
     "text": [
      "25\n"
     ]
    }
   ],
   "source": [
    "# Write a Python program to find largest number in a list?\n",
    "\n",
    "def find_largest_number(numbers):\n",
    "    largest = numbers[0]\n",
    "    for num in numbers:\n",
    "        if num > largest:\n",
    "            largest = num\n",
    "    return largest\n",
    "\n",
    "\n",
    "my_list = [5, 10, 15, 20, 25]\n",
    "print(find_largest_number(my_list))\n"
   ]
  },
  {
   "cell_type": "code",
   "execution_count": 13,
   "id": "f866a0a7",
   "metadata": {},
   "outputs": [
    {
     "name": "stdout",
     "output_type": "stream",
     "text": [
      "Second largest number in the list 40\n"
     ]
    }
   ],
   "source": [
    "# Write a Python program to find second largest number in a list?\n",
    "\n",
    "def second_largest(numbers):\n",
    "    \n",
    "    sorted_numbers = sorted(numbers, reverse=True)\n",
    "    \n",
    "    return sorted_numbers[1]\n",
    "\n",
    "my_list = [10, 20, 30, 40, 50]\n",
    "\n",
    "print(\"Second largest number in the list\", second_largest(my_list))\n"
   ]
  },
  {
   "cell_type": "code",
   "execution_count": 16,
   "id": "3c9582ea",
   "metadata": {},
   "outputs": [
    {
     "name": "stdout",
     "output_type": "stream",
     "text": [
      "List [3, 1, 4, 1, 5, 9, 2, 6, 5, 3, 5]\n",
      "N largest elementS [9, 6, 5]\n"
     ]
    }
   ],
   "source": [
    "# Write a Python program to find N largest elements from a list?\n",
    "\n",
    "import heapq\n",
    "\n",
    "def find_n_largest_elements(lst, n):\n",
    "    return heapq.nlargest(n, lst)\n",
    "\n",
    "lst = [3, 1, 4, 1, 5, 9, 2, 6, 5, 3, 5]\n",
    "n = 3\n",
    "print(\"List\", lst)\n",
    "\n",
    "print(\"N largest elementS\", find_n_largest_elements(lst, n))\n"
   ]
  },
  {
   "cell_type": "code",
   "execution_count": 17,
   "id": "9b791431",
   "metadata": {},
   "outputs": [
    {
     "name": "stdout",
     "output_type": "stream",
     "text": [
      "Even numbers in the list: [2, 4, 6, 8, 10]\n"
     ]
    }
   ],
   "source": [
    "# Write a Python program to print even numbers in a list?\n",
    "\n",
    "def print_even_numbers(my_list):\n",
    "    \n",
    "    #\"function prints all even numbers in a given list.\n",
    "    \n",
    "    even_numbers = [num for num in my_list if num % 2 == 0]\n",
    "    print(\"Even numbers in the list:\", even_numbers)\n",
    "\n",
    "\n",
    "my_list = [1, 2, 3, 4, 5, 6, 7, 8, 9, 10]\n",
    "print_even_numbers(my_list)\n"
   ]
  },
  {
   "cell_type": "code",
   "execution_count": 18,
   "id": "e2fe8b73",
   "metadata": {},
   "outputs": [
    {
     "name": "stdout",
     "output_type": "stream",
     "text": [
      "3\n",
      "5\n",
      "9\n",
      "11\n",
      "15\n"
     ]
    }
   ],
   "source": [
    "# Write a Python program to print odd numbers in a List?\n",
    "\n",
    "# Definiing a list of numbers\n",
    "\n",
    "numbers = [2, 3, 5, 6, 8, 9, 10, 11, 12, 15]\n",
    "\n",
    "# Loop \n",
    "for num in numbers:\n",
    "   \n",
    "    if num % 2 != 0:\n",
    "        print(num)\n"
   ]
  },
  {
   "cell_type": "code",
   "execution_count": 20,
   "id": "cc92f052",
   "metadata": {},
   "outputs": [
    {
     "name": "stdout",
     "output_type": "stream",
     "text": [
      "[1, 2, 3, [], 4]\n"
     ]
    }
   ],
   "source": [
    "# Write a Python program to Remove empty List from List?\n",
    "\n",
    "my_list = [1, [], 2, [], 3, [], [], 4]\n",
    "\n",
    "# iterating  over the list and remove empty lists\n",
    "\n",
    "for item in my_list:\n",
    "    if type(item) == list and len(item) == 0:\n",
    "        my_list.remove(item)\n",
    "\n",
    "print(my_list)\n"
   ]
  },
  {
   "cell_type": "code",
   "execution_count": 22,
   "id": "7a7a8574",
   "metadata": {},
   "outputs": [
    {
     "name": "stdout",
     "output_type": "stream",
     "text": [
      "Original List [1, 2, 3, 4, 5]\n",
      "Cloned List [1, 2, 3, 4, 5]\n"
     ]
    }
   ],
   "source": [
    "# Write a Python program to Cloning or Copying a list?\n",
    "\n",
    "\n",
    "original_list = [1, 2, 3, 4, 5]\n",
    "cloned_list = original_list[:]\n",
    "print(\"Original List\", original_list)\n",
    "print(\"Cloned List\", cloned_list)\n"
   ]
  },
  {
   "cell_type": "code",
   "execution_count": 23,
   "id": "e3840fe3",
   "metadata": {},
   "outputs": [
    {
     "name": "stdout",
     "output_type": "stream",
     "text": [
      "The count of 1 in the list is 3\n"
     ]
    }
   ],
   "source": [
    "# Write a Python program to Count occurrences of an element in a list?\n",
    "\n",
    "my_list = [1, 2, 3, 4, 1, 2, 1]\n",
    "\n",
    "count = my_list.count(1)\n",
    "\n",
    "print(\"The count of 1 in the list is\", count)\n"
   ]
  },
  {
   "cell_type": "markdown",
   "id": "3ccc0f58",
   "metadata": {},
   "source": [
    "# End"
   ]
  },
  {
   "cell_type": "code",
   "execution_count": null,
   "id": "02e660dc",
   "metadata": {},
   "outputs": [],
   "source": []
  }
 ],
 "metadata": {
  "kernelspec": {
   "display_name": "Python 3 (ipykernel)",
   "language": "python",
   "name": "python3"
  },
  "language_info": {
   "codemirror_mode": {
    "name": "ipython",
    "version": 3
   },
   "file_extension": ".py",
   "mimetype": "text/x-python",
   "name": "python",
   "nbconvert_exporter": "python",
   "pygments_lexer": "ipython3",
   "version": "3.9.7"
  }
 },
 "nbformat": 4,
 "nbformat_minor": 5
}
