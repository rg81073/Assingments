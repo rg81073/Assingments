{
 "cells": [
  {
   "cell_type": "code",
   "execution_count": null,
   "id": "e80bf298",
   "metadata": {},
   "outputs": [],
   "source": [
    "Question1\n",
    "Create a function that takes a string and returns a string in which each character is repeated once.\n",
    "Examples\n",
    "double_char(\"String\") ➞ \"SSttrriinngg\"\n",
    "\n",
    "double_char(\"Hello World!\") ➞ \"HHeelllloo  WWoorrlldd!!\"\n",
    "\n",
    "double_char(\"1234!_ \") ➞ \"11223344!!__  \"\n",
    "\n",
    "Question2\n",
    "Create a function that reverses a boolean value and returns the string \"boolean expected\" if another variable type is given.\n",
    "Examples\n",
    "reverse(True) ➞ False\n",
    "\n",
    "reverse(False) ➞ True\n",
    "\n",
    "reverse(0) ➞ \"boolean expected\"\n",
    "\n",
    "reverse(None) ➞ \"boolean expected\"\n",
    "\n",
    "Question3\n",
    "Create a function that returns the thickness (in meters) of a piece of paper after folding it n number of times. The paper starts off with a thickness of 0.5mm.\n",
    "Examples\n",
    "num_layers(1) ➞ \"0.001m\"\n",
    "# Paper folded once is 1mm (equal to 0.001m)\n",
    "\n",
    "num_layers(4) ➞ \"0.008m\"\n",
    "# Paper folded 4 times is 8mm (equal to 0.008m)\n",
    "\n",
    "num_layers(21) ➞ \"1048.576m\"\n",
    "# Paper folded 21 times is 1048576mm (equal to 1048.576m)\n",
    "\n",
    "\n",
    "Question4\n",
    "Create a function that takes a single string as argument and returns an ordered list containing the indices of all capital letters in the string.\n",
    "Examples\n",
    "index_of_caps(\"eDaBiT\") ➞ [1, 3, 5]\n",
    "\n",
    "index_of_caps(\"eQuINoX\") ➞ [1, 3, 4, 6]\n",
    "\n",
    "index_of_caps(\"determine\") ➞ []\n",
    "\n",
    "index_of_caps(\"STRIKE\") ➞ [0, 1, 2, 3, 4, 5]\n",
    "\n",
    "index_of_caps(\"sUn\") ➞ [1]\n",
    "\n",
    "Question5\n",
    "Using list comprehensions, create a function that finds all even numbers from 1 to the given number.\n",
    "Examples\n",
    "find_even_nums(8) ➞ [2, 4, 6, 8]\n",
    "\n",
    "find_even_nums(4) ➞ [2, 4]\n",
    "\n",
    "find_even_nums(2) ➞ [2]\n",
    "\n",
    "\n"
   ]
  },
  {
   "cell_type": "markdown",
   "id": "2f02acbe",
   "metadata": {},
   "source": [
    "# Solutions"
   ]
  },
  {
   "cell_type": "code",
   "execution_count": 1,
   "id": "3e107c6a",
   "metadata": {},
   "outputs": [
    {
     "name": "stdout",
     "output_type": "stream",
     "text": [
      "SSttrriinngg\n",
      "HHeelllloo  WWoorrlldd!!\n",
      "11223344!!__  \n"
     ]
    }
   ],
   "source": [
    "# Question1\n",
    "\n",
    "# Create a function that takes a string and returns a string in which each character is repeated once.\n",
    "# Examples\n",
    "# double_char(\"String\") ➞ \"SSttrriinngg\"\n",
    "\n",
    "# double_char(\"Hello World!\") ➞ \"HHeelllloo  WWoorrlldd!!\"\n",
    "\n",
    "# double_char(\"1234!_ \") ➞ \"11223344!!__  \"\n",
    "\n",
    "\n",
    "def double_char(txt):\n",
    "    return ''.join([char*2 for char in txt])\n",
    "\n",
    "print(double_char(\"String\"))  # Output: SSttrriinngg\n",
    "print(double_char(\"Hello World!\"))  # Output: HHeelllloo  WWoorrlldd!!\n",
    "print(double_char(\"1234!_ \"))  # Output: 11223344!!__  \n",
    "\n",
    "\n"
   ]
  },
  {
   "cell_type": "code",
   "execution_count": 3,
   "id": "d9c73835",
   "metadata": {},
   "outputs": [
    {
     "data": {
      "text/plain": [
       "False"
      ]
     },
     "execution_count": 3,
     "metadata": {},
     "output_type": "execute_result"
    }
   ],
   "source": [
    "# Question2\n",
    "\n",
    "# Create a function that reverses a boolean value and returns the string \"boolean expected\" if another variable type is given.\n",
    "# Examples\n",
    "# reverse(True) ➞ False\n",
    "\n",
    "# reverse(False) ➞ True\n",
    "\n",
    "# reverse(0) ➞ \"boolean expected\"\n",
    "\n",
    "# reverse(None) ➞ \"boolean expected\"\n",
    "\n",
    "\n",
    "def reverse(arg):\n",
    "    if isinstance(arg, bool):\n",
    "        return not arg\n",
    "    else:\n",
    "        return \"boolean expected\"\n",
    "\n",
    "reverse(True)\n"
   ]
  },
  {
   "cell_type": "code",
   "execution_count": 4,
   "id": "8b94bc52",
   "metadata": {},
   "outputs": [
    {
     "data": {
      "text/plain": [
       "True"
      ]
     },
     "execution_count": 4,
     "metadata": {},
     "output_type": "execute_result"
    }
   ],
   "source": [
    "def reverse(arg):\n",
    "    if isinstance(arg, bool):\n",
    "        return not arg\n",
    "    else:\n",
    "        return \"boolean expected\"\n",
    "\n",
    "\n",
    "reverse(False)\n",
    " "
   ]
  },
  {
   "cell_type": "code",
   "execution_count": 5,
   "id": "fe5d785e",
   "metadata": {},
   "outputs": [
    {
     "data": {
      "text/plain": [
       "'boolean expected'"
      ]
     },
     "execution_count": 5,
     "metadata": {},
     "output_type": "execute_result"
    }
   ],
   "source": [
    "def reverse(arg):\n",
    "    if isinstance(arg, bool):\n",
    "        return not arg\n",
    "    else:\n",
    "        return \"boolean expected\"\n",
    "\n",
    "\n",
    "reverse(0)\n",
    " "
   ]
  },
  {
   "cell_type": "code",
   "execution_count": 7,
   "id": "6b1eed8a",
   "metadata": {},
   "outputs": [
    {
     "data": {
      "text/plain": [
       "'boolean expected'"
      ]
     },
     "execution_count": 7,
     "metadata": {},
     "output_type": "execute_result"
    }
   ],
   "source": [
    "def reverse(arg):\n",
    "    if isinstance(arg, bool):\n",
    "        return not arg\n",
    "    else:\n",
    "        return \"boolean expected\"\n",
    "reverse(None)"
   ]
  },
  {
   "cell_type": "code",
   "execution_count": 9,
   "id": "50f308db",
   "metadata": {},
   "outputs": [
    {
     "data": {
      "text/plain": [
       "'0.001m'"
      ]
     },
     "execution_count": 9,
     "metadata": {},
     "output_type": "execute_result"
    }
   ],
   "source": [
    "# Question3\n",
    "\n",
    "# Create a function that returns the thickness (in meters) of a piece of paper after folding it n number of times. The paper starts off with a thickness of 0.5mm.\n",
    "# Examples\n",
    "# num_layers(1) ➞ \"0.001m\"\n",
    "# # Paper folded once is 1mm (equal to 0.001m)\n",
    "\n",
    "# num_layers(4) ➞ \"0.008m\"\n",
    "# # Paper folded 4 times is 8mm (equal to 0.008m)\n",
    "\n",
    "# num_layers(21) ➞ \"1048.576m\"\n",
    "# # Paper folded 21 times is 1048576mm (equal to 1048.576m)\n",
    "\n",
    "\n",
    "def num_layers(n):\n",
    "    thickness = 0.5 * (2 ** n)\n",
    "    thickness_meters = thickness / 1000\n",
    "    return f\"{thickness_meters:.3f}m\"\n",
    "\n",
    "num_layers(1)\n",
    "\n",
    "\n"
   ]
  },
  {
   "cell_type": "code",
   "execution_count": 10,
   "id": "6497d814",
   "metadata": {},
   "outputs": [
    {
     "data": {
      "text/plain": [
       "'0.008m'"
      ]
     },
     "execution_count": 10,
     "metadata": {},
     "output_type": "execute_result"
    }
   ],
   "source": [
    "def num_layers(n):\n",
    "    thickness = 0.5 * (2 ** n)\n",
    "    thickness_meters = thickness / 1000\n",
    "    return f\"{thickness_meters:.3f}m\"\n",
    "\n",
    "\n",
    "num_layers(4)\n",
    "\n"
   ]
  },
  {
   "cell_type": "code",
   "execution_count": 11,
   "id": "dda9fff8",
   "metadata": {},
   "outputs": [
    {
     "data": {
      "text/plain": [
       "'1048.576m'"
      ]
     },
     "execution_count": 11,
     "metadata": {},
     "output_type": "execute_result"
    }
   ],
   "source": [
    "def num_layers(n):\n",
    "    thickness = 0.5 * (2 ** n)\n",
    "    thickness_meters = thickness / 1000\n",
    "    return f\"{thickness_meters:.3f}m\"\n",
    "\n",
    "num_layers(21)\n"
   ]
  },
  {
   "cell_type": "code",
   "execution_count": 14,
   "id": "51664fdb",
   "metadata": {},
   "outputs": [
    {
     "name": "stdout",
     "output_type": "stream",
     "text": [
      "[]\n"
     ]
    }
   ],
   "source": [
    "# Question4\n",
    "\n",
    "\n",
    "# Create a function that takes a single string as argument and returns an ordered list containing the indices of all capital letters in the string.\n",
    "# Examples\n",
    "# index_of_caps(\"eDaBiT\") ➞ [1, 3, 5]\n",
    "\n",
    "# index_of_caps(\"eQuINoX\") ➞ [1, 3, 4, 6]\n",
    "\n",
    "# index_of_caps(\"determine\") ➞ []\n",
    "\n",
    "# index_of_caps(\"STRIKE\") ➞ [0, 1, 2, 3, 4, 5]\n",
    "\n",
    "# index_of_caps(\"sUn\") ➞ [1]\n",
    "\n",
    "def index_of_caps(word):\n",
    "    return [i for i in range(len(word)) if word[i].isupper()]\n",
    "\n",
    "\n",
    "print(index_of_caps(\"determine\"))\n",
    "\n"
   ]
  },
  {
   "cell_type": "code",
   "execution_count": 15,
   "id": "5b7be671",
   "metadata": {},
   "outputs": [
    {
     "name": "stdout",
     "output_type": "stream",
     "text": [
      "[0, 1, 2, 3, 4, 5]\n"
     ]
    }
   ],
   "source": [
    "def index_of_caps(word):\n",
    "    return [i for i in range(len(word)) if word[i].isupper()]\n",
    "\n",
    "print(index_of_caps(\"STRIKE\"))\n"
   ]
  },
  {
   "cell_type": "code",
   "execution_count": 16,
   "id": "3cc3325e",
   "metadata": {},
   "outputs": [
    {
     "name": "stdout",
     "output_type": "stream",
     "text": [
      "[1]\n"
     ]
    }
   ],
   "source": [
    "def index_of_caps(word):\n",
    "    return [i for i in range(len(word)) if word[i].isupper()]\n",
    "\n",
    "print(index_of_caps(\"sUn\"))"
   ]
  },
  {
   "cell_type": "code",
   "execution_count": 17,
   "id": "d1a64e90",
   "metadata": {},
   "outputs": [
    {
     "data": {
      "text/plain": [
       "[2, 4, 6, 8]"
      ]
     },
     "execution_count": 17,
     "metadata": {},
     "output_type": "execute_result"
    }
   ],
   "source": [
    "# Question5\n",
    "\n",
    "\n",
    "# Using list comprehensions, create a function that finds all even numbers from 1 to the given number.\n",
    "# Examples\n",
    "# find_even_nums(8) ➞ [2, 4, 6, 8]\n",
    "\n",
    "# find_even_nums(4) ➞ [2, 4]\n",
    "\n",
    "# find_even_nums(2) ➞ [2]\n",
    "\n",
    "\n",
    "def find_even_nums(n):\n",
    "    return [i for i in range(1, n+1) if i % 2 == 0]\n",
    "\n",
    "find_even_nums(8)\n",
    "\n",
    "\n",
    "\n"
   ]
  },
  {
   "cell_type": "code",
   "execution_count": 18,
   "id": "1ba3ddd5",
   "metadata": {},
   "outputs": [
    {
     "data": {
      "text/plain": [
       "[2, 4]"
      ]
     },
     "execution_count": 18,
     "metadata": {},
     "output_type": "execute_result"
    }
   ],
   "source": [
    "def find_even_nums(n):\n",
    "    return [i for i in range(1, n+1) if i % 2 == 0]\n",
    "\n",
    "\n",
    "\n",
    "find_even_nums(4)\n",
    "\n",
    "\n"
   ]
  },
  {
   "cell_type": "code",
   "execution_count": 19,
   "id": "49683e79",
   "metadata": {},
   "outputs": [
    {
     "data": {
      "text/plain": [
       "[2]"
      ]
     },
     "execution_count": 19,
     "metadata": {},
     "output_type": "execute_result"
    }
   ],
   "source": [
    "def find_even_nums(n):\n",
    "    return [i for i in range(1, n+1) if i % 2 == 0]\n",
    "\n",
    "find_even_nums(2)\n",
    "\n"
   ]
  },
  {
   "cell_type": "markdown",
   "id": "148fe09e",
   "metadata": {},
   "source": [
    "# End"
   ]
  }
 ],
 "metadata": {
  "kernelspec": {
   "display_name": "Python 3 (ipykernel)",
   "language": "python",
   "name": "python3"
  },
  "language_info": {
   "codemirror_mode": {
    "name": "ipython",
    "version": 3
   },
   "file_extension": ".py",
   "mimetype": "text/x-python",
   "name": "python",
   "nbconvert_exporter": "python",
   "pygments_lexer": "ipython3",
   "version": "3.9.7"
  }
 },
 "nbformat": 4,
 "nbformat_minor": 5
}
